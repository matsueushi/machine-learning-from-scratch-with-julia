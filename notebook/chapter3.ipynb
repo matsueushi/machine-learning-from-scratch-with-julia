{
 "cells": [
  {
   "outputs": [
    {
     "name": "stdout",
     "output_type": "stream",
     "text": [
      " Activating environment at `/tmpdir/notebook/Project.toml`\n"
     ]
    }
   ],
   "cell_type": "code",
   "source": [
    "using Pkg; Pkg.activate(\".\"); Pkg.instantiate()"
   ],
   "metadata": {},
   "execution_count": 1
  },
  {
   "cell_type": "markdown",
   "source": [
    "# Chapter 3 - 数学のおさらい"
   ],
   "metadata": {}
  },
  {
   "cell_type": "markdown",
   "source": [
    "## 3.1\n",
    "### 3.1.1 スカラーとベクトル"
   ],
   "metadata": {}
  },
  {
   "outputs": [
    {
     "output_type": "execute_result",
     "data": {
      "text/plain": "2-element Array{Float64,1}:\n 5.0\n 3.0"
     },
     "metadata": {},
     "execution_count": 2
    }
   ],
   "cell_type": "code",
   "source": [
    "# 列ベクトル: 2行1列のArrayを定義\n",
    "# Juliaはcolumn-major\n",
    "w = [5.0, 3.0]\n",
    "\n",
    "\n",
    "# 行ベクトル"
   ],
   "metadata": {},
   "execution_count": 2
  },
  {
   "outputs": [
    {
     "output_type": "execute_result",
     "data": {
      "text/plain": "1×2 Array{Float64,2}:\n 5.0  3.0"
     },
     "metadata": {},
     "execution_count": 3
    }
   ],
   "cell_type": "code",
   "source": [
    "# 行ベクトル: 1行2列\n",
    "x = [5.0 3.0]"
   ],
   "metadata": {},
   "execution_count": 3
  },
  {
   "outputs": [
    {
     "output_type": "execute_result",
     "data": {
      "text/plain": "1×5 Array{Float64,2}:\n 0.0  0.0  0.0  0.0  0.0"
     },
     "metadata": {},
     "execution_count": 4
    }
   ],
   "cell_type": "code",
   "source": [
    "# すべての要素が0の1行5列のArrayを生成\n",
    "x_zeros = zeros(1, 5)"
   ],
   "metadata": {},
   "execution_count": 4
  },
  {
   "outputs": [
    {
     "output_type": "execute_result",
     "data": {
      "text/plain": "1×5 Array{Float64,2}:\n 1.0  1.0  1.0  1.0  1.0"
     },
     "metadata": {},
     "execution_count": 5
    }
   ],
   "cell_type": "code",
   "source": [
    "# すべての要素が1の1行5列のArrayを生成\n",
    "x_ones = ones(1, 5)"
   ],
   "metadata": {},
   "execution_count": 5
  },
  {
   "outputs": [
    {
     "output_type": "execute_result",
     "data": {
      "text/plain": "1×5 Array{Float64,2}:\n 0.590845  0.766797  0.566237  0.460085  0.794026"
     },
     "metadata": {},
     "execution_count": 6
    }
   ],
   "cell_type": "code",
   "source": [
    "# 一様分布または正規分布にしたがってランダムに1行5列のArrayを生成\n",
    "using Random\n",
    "Random.seed!(1234)\n",
    "\n",
    "# 一様分布\n",
    "uniform = rand(1, 5)"
   ],
   "metadata": {},
   "execution_count": 6
  },
  {
   "outputs": [
    {
     "output_type": "execute_result",
     "data": {
      "text/plain": "1×5 Array{Float64,2}:\n 2.21188  0.532813  -0.271735  0.502334  -0.516984"
     },
     "metadata": {},
     "execution_count": 7
    }
   ],
   "cell_type": "code",
   "source": [
    "# 正規分布\n",
    "normal = randn(1, 5)"
   ],
   "metadata": {},
   "execution_count": 7
  },
  {
   "outputs": [
    {
     "name": "stdout",
     "output_type": "stream",
     "text": [
      "ベクトル w) 形: (2,), 型:Float64\n",
      "[5.0, 3.0]\n",
      "\n",
      "ベクトル x) 形: (1, 2), 型:Float64\n",
      "[5.0 3.0]\n",
      "\n",
      "ベクトル x_zeros) 形: (1, 5), 型:Float64\n",
      "[0.0 0.0 0.0 0.0 0.0]\n",
      "\n",
      "ベクトル x_ones) 形: (1, 5), 型:Float64\n",
      "[1.0 1.0 1.0 1.0 1.0]\n",
      "\n",
      "ベクトル uniform) 形: (1, 5), 型:Float64\n",
      "[0.5908446386657102 0.7667970365022592 0.5662374165061859 0.4600853424625171 0.7940257103317943]\n",
      "\n",
      "ベクトル normal) 形: (1, 5), 型:Float64\n",
      "[2.2118774995743475 0.5328132821695382 -0.27173539603462066 0.5023344963886675 -0.5169836206932686]\n",
      "\n"
     ]
    },
    {
     "output_type": "execute_result",
     "data": {
      "text/plain": "1-element Array{Float64,1}:\n 20.0"
     },
     "metadata": {},
     "execution_count": 8
    }
   ],
   "cell_type": "code",
   "source": [
    "# 標準出力\n",
    "for s in (:w, :x, :x_zeros, :x_ones, :uniform, :normal)\n",
    "    y = eval(s)\n",
    "    println(\"ベクトル $(s)) 形: $(size(y)), 型:$(eltype(y))\\n$(y)\\n\")\n",
    "end\n",
    "\n",
    "\n",
    "### 3.1.2 ベクトルの内積\n",
    "# 列ベクトル: 2行1列のArrayを定義\n",
    "w = [5.0, 3.0]\n",
    "\n",
    "# 行ベクトル: 1行2列\n",
    "x = [1.0 5.0]\n",
    "\n",
    "# 内積の計算\n",
    "xw = x * w"
   ],
   "metadata": {},
   "execution_count": 8
  },
  {
   "cell_type": "markdown",
   "source": [
    "---\n",
    "\n",
    "*This notebook was generated using [Literate.jl](https://github.com/fredrikekre/Literate.jl).*"
   ],
   "metadata": {}
  }
 ],
 "nbformat_minor": 3,
 "metadata": {
  "language_info": {
   "file_extension": ".jl",
   "mimetype": "application/julia",
   "name": "julia",
   "version": "1.5.2"
  },
  "kernelspec": {
   "name": "julia-1.5",
   "display_name": "Julia 1.5.2",
   "language": "julia"
  }
 },
 "nbformat": 4
}
