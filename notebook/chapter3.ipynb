{
 "cells": [
  {
   "outputs": [
    {
     "name": "stdout",
     "output_type": "stream",
     "text": [
      " Activating environment at `/tmpdir/notebook/Project.toml`\n"
     ]
    }
   ],
   "cell_type": "code",
   "source": [
    "using Pkg; Pkg.activate(\".\"); Pkg.instantiate()"
   ],
   "metadata": {},
   "execution_count": 1
  },
  {
   "cell_type": "markdown",
   "source": [
    "# Chapter 3 - 数学のおさらい"
   ],
   "metadata": {}
  },
  {
   "cell_type": "markdown",
   "source": [
    "## 3.1 線形代数\n",
    "### 3.1.1 スカラーとベクトル"
   ],
   "metadata": {}
  },
  {
   "outputs": [
    {
     "output_type": "execute_result",
     "data": {
      "text/plain": "2-element Array{Float64,1}:\n 5.0\n 3.0"
     },
     "metadata": {},
     "execution_count": 2
    }
   ],
   "cell_type": "code",
   "source": [
    "# 列ベクトル: 2行1列のArrayを定義\n",
    "# Juliaはcolumn-major\n",
    "w = [5.0, 3.0]\n",
    "\n",
    "\n",
    "# 行ベクトル"
   ],
   "metadata": {},
   "execution_count": 2
  },
  {
   "outputs": [
    {
     "output_type": "execute_result",
     "data": {
      "text/plain": "1×2 Array{Float64,2}:\n 5.0  3.0"
     },
     "metadata": {},
     "execution_count": 3
    }
   ],
   "cell_type": "code",
   "source": [
    "# 行ベクトル: 1行2列\n",
    "x = [5.0 3.0]"
   ],
   "metadata": {},
   "execution_count": 3
  },
  {
   "outputs": [
    {
     "output_type": "execute_result",
     "data": {
      "text/plain": "1×5 Array{Float64,2}:\n 0.0  0.0  0.0  0.0  0.0"
     },
     "metadata": {},
     "execution_count": 4
    }
   ],
   "cell_type": "code",
   "source": [
    "# すべての要素が0の1行5列のArrayを生成\n",
    "x_zeros = zeros(1, 5)"
   ],
   "metadata": {},
   "execution_count": 4
  },
  {
   "outputs": [
    {
     "output_type": "execute_result",
     "data": {
      "text/plain": "1×5 Array{Float64,2}:\n 1.0  1.0  1.0  1.0  1.0"
     },
     "metadata": {},
     "execution_count": 5
    }
   ],
   "cell_type": "code",
   "source": [
    "# すべての要素が1の1行5列のArrayを生成\n",
    "x_ones = ones(1, 5)"
   ],
   "metadata": {},
   "execution_count": 5
  },
  {
   "outputs": [
    {
     "output_type": "execute_result",
     "data": {
      "text/plain": "1×5 Array{Float64,2}:\n 0.590845  0.766797  0.566237  0.460085  0.794026"
     },
     "metadata": {},
     "execution_count": 6
    }
   ],
   "cell_type": "code",
   "source": [
    "# 一様分布または正規分布にしたがってランダムに1行5列のArrayを生成\n",
    "using Random\n",
    "Random.seed!(1234)\n",
    "\n",
    "# 一様分布\n",
    "uniform = rand(1, 5)"
   ],
   "metadata": {},
   "execution_count": 6
  },
  {
   "outputs": [
    {
     "output_type": "execute_result",
     "data": {
      "text/plain": "1×5 Array{Float64,2}:\n 2.21188  0.532813  -0.271735  0.502334  -0.516984"
     },
     "metadata": {},
     "execution_count": 7
    }
   ],
   "cell_type": "code",
   "source": [
    "# 正規分布\n",
    "normal = randn(1, 5)"
   ],
   "metadata": {},
   "execution_count": 7
  },
  {
   "outputs": [
    {
     "name": "stdout",
     "output_type": "stream",
     "text": [
      "ベクトル w) 形: (2,), 要素の型:Float64\n",
      "[5.0, 3.0]\n",
      "\n",
      "ベクトル x) 形: (1, 2), 要素の型:Float64\n",
      "[5.0 3.0]\n",
      "\n",
      "ベクトル x_zeros) 形: (1, 5), 要素の型:Float64\n",
      "[0.0 0.0 0.0 0.0 0.0]\n",
      "\n",
      "ベクトル x_ones) 形: (1, 5), 要素の型:Float64\n",
      "[1.0 1.0 1.0 1.0 1.0]\n",
      "\n",
      "ベクトル uniform) 形: (1, 5), 要素の型:Float64\n",
      "[0.5908446386657102 0.7667970365022592 0.5662374165061859 0.4600853424625171 0.7940257103317943]\n",
      "\n",
      "ベクトル normal) 形: (1, 5), 要素の型:Float64\n",
      "[2.2118774995743475 0.5328132821695382 -0.27173539603462066 0.5023344963886675 -0.5169836206932686]\n",
      "\n"
     ]
    },
    {
     "output_type": "execute_result",
     "data": {
      "text/plain": "20.0"
     },
     "metadata": {},
     "execution_count": 8
    }
   ],
   "cell_type": "code",
   "source": [
    "# 標準出力\n",
    "for s in (:w, :x, :x_zeros, :x_ones, :uniform, :normal)\n",
    "    y = eval(s)\n",
    "    println(\"ベクトル $(s)) 形: $(size(y)), 要素の型:$(eltype(y))\\n$(y)\\n\")\n",
    "end\n",
    "\n",
    "\n",
    "### 3.1.2 ベクトルの内積\n",
    "# 列ベクトル: 2行1列のArrayを定義\n",
    "w = [5.0, 3.0]\n",
    "\n",
    "# 行ベクトル: 1行2列\n",
    "x = [1.0 5.0]\n",
    "\n",
    "# 内積の計算\n",
    "# \\cdot\n",
    "using LinearAlgebra\n",
    "xw = x ⋅ w"
   ],
   "metadata": {},
   "execution_count": 8
  },
  {
   "outputs": [
    {
     "output_type": "execute_result",
     "data": {
      "text/plain": "34.0"
     },
     "metadata": {},
     "execution_count": 9
    }
   ],
   "cell_type": "code",
   "source": [
    "# wのノルムの計算: wの転置(行ベクトル)とw(列ベクトル)の掛け算\n",
    "ww = transpose(w) ⋅ w"
   ],
   "metadata": {},
   "execution_count": 9
  },
  {
   "outputs": [
    {
     "output_type": "execute_result",
     "data": {
      "text/plain": "5.830951894845301"
     },
     "metadata": {},
     "execution_count": 10
    }
   ],
   "cell_type": "code",
   "source": [
    "# ノルムを計算する関数が用意されている\n",
    "norm(w)"
   ],
   "metadata": {},
   "execution_count": 10
  },
  {
   "outputs": [
    {
     "name": "stdout",
     "output_type": "stream",
     "text": [
      "xとwの内積) 形: (), 型:Float64\n",
      "20.0\n",
      "\n",
      "wのノルム) 形: (), 型:Float64\n",
      "34.0\n",
      "\n"
     ]
    }
   ],
   "cell_type": "code",
   "source": [
    "println(\"xとwの内積) 形: $(size(xw)), 型:$(typeof(xw))\\n$(xw)\\n\")\n",
    "println(\"wのノルム) 形: $(size(ww)), 型:$(typeof(ww))\\n$(ww)\\n\")"
   ],
   "metadata": {},
   "execution_count": 11
  },
  {
   "cell_type": "markdown",
   "source": [
    "### 3.1.5 行列とベクトルの関係"
   ],
   "metadata": {}
  },
  {
   "outputs": [
    {
     "output_type": "execute_result",
     "data": {
      "text/plain": "3×2 Array{Float64,2}:\n 1.0  2.0\n 2.0  4.0\n 3.0  6.0"
     },
     "metadata": {},
     "execution_count": 12
    }
   ],
   "cell_type": "code",
   "source": [
    "# 行列: 3行2列のArrayを定義\n",
    "X = [1.0 2.0; 2.0 4.0; 3.0 6.0]"
   ],
   "metadata": {},
   "execution_count": 12
  },
  {
   "outputs": [
    {
     "output_type": "execute_result",
     "data": {
      "text/plain": "1×2 Array{Float64,2}:\n 1.0  2.0"
     },
     "metadata": {},
     "execution_count": 13
    }
   ],
   "cell_type": "code",
   "source": [
    "# 1行目の行ベクトル(1行2列)の取り出し\n",
    "Xrow1 = X[[1], :]"
   ],
   "metadata": {},
   "execution_count": 13
  },
  {
   "outputs": [
    {
     "output_type": "execute_result",
     "data": {
      "text/plain": "3×1 Array{Float64,2}:\n 2.0\n 4.0\n 6.0"
     },
     "metadata": {},
     "execution_count": 14
    }
   ],
   "cell_type": "code",
   "source": [
    "# 2列目の列ベクトル(3行1列)の取り出し\n",
    "Xcol2 = X[:, [2]]"
   ],
   "metadata": {},
   "execution_count": 14
  },
  {
   "outputs": [
    {
     "name": "stdout",
     "output_type": "stream",
     "text": [
      "行列X) 形:(3, 2), 要素の型:Float64\n",
      "[1.0 2.0; 2.0 4.0; 3.0 6.0]\n",
      "\n",
      "1行目) 形:(1, 2), 要素の型:Float64\n",
      "[1.0 2.0]\n",
      "\n",
      "2列目) 形:(3, 1), 要素の型:Float64\n",
      "[2.0; 4.0; 6.0]\n",
      "\n"
     ]
    }
   ],
   "cell_type": "code",
   "source": [
    "# 標準出力\n",
    "println(\"行列X) 形:$(size(X)), 要素の型:$(eltype(X))\\n$(X)\\n\")\n",
    "println(\"1行目) 形:$(size(Xrow1)), 要素の型:$(eltype(Xrow1))\\n$(Xrow1)\\n\")\n",
    "println(\"2列目) 形:$(size(Xcol2)), 要素の型:$(eltype(Xcol2))\\n$(Xcol2)\\n\")"
   ],
   "metadata": {},
   "execution_count": 15
  },
  {
   "outputs": [
    {
     "output_type": "execute_result",
     "data": {
      "text/plain": "2-element Array{Float64,1}:\n 1.0\n 2.0"
     },
     "metadata": {},
     "execution_count": 16
    }
   ],
   "cell_type": "code",
   "source": [
    "# リストなしの場合\n",
    "X[1, :]"
   ],
   "metadata": {},
   "execution_count": 16
  },
  {
   "outputs": [
    {
     "output_type": "execute_result",
     "data": {
      "text/plain": "1×2 Array{Float64,2}:\n 1.0  2.0"
     },
     "metadata": {},
     "execution_count": 17
    }
   ],
   "cell_type": "code",
   "source": [
    "# リストありの場合\n",
    "X[[1], :]"
   ],
   "metadata": {},
   "execution_count": 17
  },
  {
   "cell_type": "markdown",
   "source": [
    "### 3.1.6 行列の積と和"
   ],
   "metadata": {}
  },
  {
   "outputs": [
    {
     "name": "stdout",
     "output_type": "stream",
     "text": [
      "積和の結果 \n",
      "[12.0, 23.0, 34.0]\n"
     ]
    }
   ],
   "cell_type": "code",
   "source": [
    "# 行列 X: 3行2列のArrayを定義\n",
    "X = [1.0 2.0; 2.0 4.0; 3.0 6.0]\n",
    "\n",
    "# 列ベクトル b: 2行1列のArrayを定義\n",
    "w = [5.0, 3.0]\n",
    "\n",
    "# 列ベクトル b: 3行1列のArrayを定義\n",
    "b = [1.0, 1.0, 1.0]\n",
    "\n",
    "# 行列とベクトルの積と和\n",
    "res = X * w .+ b\n",
    "println(\"積和の結果 \\n$(res)\")"
   ],
   "metadata": {},
   "execution_count": 18
  },
  {
   "cell_type": "markdown",
   "source": [
    "### 3.1.8 行列の階数"
   ],
   "metadata": {}
  },
  {
   "outputs": [
    {
     "name": "stdout",
     "output_type": "stream",
     "text": [
      "Rank of A: 2\n",
      "Rank of B: 1\n"
     ]
    }
   ],
   "cell_type": "code",
   "source": [
    "# 行列: 2行2列のArrayを定義\n",
    "A = [6.0 2.0; 2.0 5.0]\n",
    "B = [6.0 3.0; 2.0 1.0]\n",
    "\n",
    "# 行列のランクの計算\n",
    "println(\"Rank of A: $(rank(A))\")\n",
    "println(\"Rank of B: $(rank(B))\")"
   ],
   "metadata": {},
   "execution_count": 19
  },
  {
   "outputs": [
    {
     "name": "stdout",
     "output_type": "stream",
     "text": [
      "行列:\n",
      "[6.0 2.0; 2.0 5.0]\n",
      "ランク2\n",
      "逆行列:\n",
      "[0.1923076923076923 -0.07692307692307693; -0.07692307692307693 0.23076923076923078]\n",
      "\n",
      "行列:\n",
      "[6.0 3.0; 2.0 1.0]\n",
      "ランク1\n",
      "特異行列\n"
     ]
    }
   ],
   "cell_type": "code",
   "source": [
    "function find_inv(mat)\n",
    "    if rank(mat) == size(mat)[1]\n",
    "        println(\"行列:\\n$(mat)\\nランク$(rank(mat))\\n逆行列:\\n$(inv(mat))\\n\")\n",
    "    else\n",
    "        println(\"行列:\\n$(mat)\\nランク$(rank(mat))\\n特異行列\")\n",
    "    end\n",
    "end\n",
    "\n",
    "find_inv(A)\n",
    "find_inv(B)"
   ],
   "metadata": {},
   "execution_count": 20
  },
  {
   "cell_type": "markdown",
   "source": [
    "### 3.1.10 行列と行列式の関係"
   ],
   "metadata": {}
  },
  {
   "outputs": [
    {
     "name": "stdout",
     "output_type": "stream",
     "text": [
      "行列Aの行列式: 26.0\n",
      "行列Bの行列式: 0.0\n"
     ]
    }
   ],
   "cell_type": "code",
   "source": [
    "# 行列: 2行2列のArrayを定義\n",
    "A = [6.0 2.0; 2.0 5.0]\n",
    "B = [6.0 3.0; 2.0 1.0]\n",
    "\n",
    "# 行列式の計算\n",
    "println(\"行列Aの行列式: $(det(A))\")\n",
    "println(\"行列Bの行列式: $(det(B))\")"
   ],
   "metadata": {},
   "execution_count": 21
  },
  {
   "cell_type": "markdown",
   "source": [
    "### 3.1.12 固有値問題の解法"
   ],
   "metadata": {}
  },
  {
   "outputs": [
    {
     "output_type": "execute_result",
     "data": {
      "text/plain": "LinearAlgebra.Eigen{Float64,Float64,Array{Float64,2},Array{Float64,1}}\nvalues:\n2-element Array{Float64,1}:\n -1.0\n  5.0\nvectors:\n2×2 Array{Float64,2}:\n -0.447214  0.707107\n  0.894427  0.707107"
     },
     "metadata": {},
     "execution_count": 22
    }
   ],
   "cell_type": "code",
   "source": [
    "# 行列Aの定義\n",
    "A = [3 2; 4 1]\n",
    "\n",
    "# 固有値問題の解\n",
    "eig_A = eigen(A)"
   ],
   "metadata": {},
   "execution_count": 22
  },
  {
   "cell_type": "markdown",
   "source": [
    "### 3.1.13 固有値と固有ベクトルの性質"
   ],
   "metadata": {}
  },
  {
   "outputs": [
    {
     "name": "stdout",
     "output_type": "stream",
     "text": [
      "行列Aの固有値:\n",
      "[2.0, 4.0]\n",
      "行列Aの固有ベクトル:\n",
      "[-0.7071067811865475 0.7071067811865475; 0.7071067811865475 0.7071067811865475]\n",
      "固有ベクトルの内積:0.0\n",
      "固有値の和:6.0\n",
      "行列Aのトレース(対角成分の和):6\n",
      "固有値の積:8.0\n",
      "行列Aの行列式:8.0\n",
      "固有ベクトルがなす行列の逆行列:\n",
      "[-0.7071067811865475 0.7071067811865475; 0.7071067811865475 0.7071067811865475]\n",
      "固有ベクトルがなす行列の転置行列:\n",
      "[-0.7071067811865475 0.7071067811865475; 0.7071067811865475 0.7071067811865475]\n"
     ]
    }
   ],
   "cell_type": "code",
   "source": [
    "# 行列Aの定義\n",
    "A = [3 1; 1 3]\n",
    "\n",
    "# 固有値・固有ベクトル\n",
    "eig_A = eigen(A)\n",
    "\n",
    "println(\"行列Aの固有値:\\n$(eig_A.values)\")\n",
    "println(\"行列Aの固有ベクトル:\\n$(eig_A.vectors)\")\n",
    "println(\"固有ベクトルの内積:$(eig_A.vectors[:, 1] ⋅ eig_A.vectors[:, 2])\")\n",
    "println(\"固有値の和:$(sum(eig_A.values))\")\n",
    "println(\"行列Aのトレース(対角成分の和):$(tr(A))\")\n",
    "println(\"固有値の積:$(prod(eig_A.values))\")\n",
    "println(\"行列Aの行列式:$(det(A))\")\n",
    "println(\"固有ベクトルがなす行列の逆行列:\\n$(eig_A.vectors)\")\n",
    "println(\"固有ベクトルがなす行列の転置行列:\\n$(eig_A.vectors')\")"
   ],
   "metadata": {},
   "execution_count": 23
  },
  {
   "cell_type": "markdown",
   "source": [
    "## 3.2 最適化"
   ],
   "metadata": {}
  },
  {
   "outputs": [
    {
     "output_type": "execute_result",
     "data": {
      "text/plain": "2-element Array{Int64,1}:\n  5\n -2"
     },
     "metadata": {},
     "execution_count": 24
    }
   ],
   "cell_type": "code",
   "source": [
    "# 行列Aの定義\n",
    "A = [2 -3; 4 1]\n",
    "\n",
    "# 列ベクトルbの定義\n",
    "b = [5, -2]"
   ],
   "metadata": {},
   "execution_count": 24
  },
  {
   "outputs": [
    {
     "name": "stdout",
     "output_type": "stream",
     "text": [
      "wの解\n",
      "[-0.07142857142857151, -1.714285714285714]\n"
     ]
    }
   ],
   "cell_type": "code",
   "source": [
    "# 行列が非ゼロか否かを確認\n",
    "if det(A) != 0\n",
    "    # Aの逆行列とベクトルbの積から解を求める\n",
    "    w = inv(A) * b\n",
    "    println(\"wの解\\n$(w)\")\n",
    "else\n",
    "    # 解が存在しない\n",
    "    println(\"解が存在しません.\")\n",
    "end"
   ],
   "metadata": {},
   "execution_count": 25
  },
  {
   "cell_type": "markdown",
   "source": [
    "### 3.2.2 微分を用いた解放"
   ],
   "metadata": {}
  },
  {
   "outputs": [
    {
     "name": "stdout",
     "output_type": "stream",
     "text": [
      "反復1, w=1.0\n",
      "反復2, w=0.4\n",
      "反復3, w=0.3\n",
      "反復4, w=0.25\n",
      "反復5, w=0.21\n",
      "反復6, w=0.18\n",
      "反復7, w=0.16\n",
      "反復8, w=0.15\n",
      "反復9, w=0.13\n",
      "反復10, w=0.12\n",
      "反復11, w=0.11\n",
      "反復12, w=0.11\n",
      "反復13, w=0.1\n",
      "反復14, w=0.09\n",
      "反復15, w=0.09\n",
      "反復16, w=0.08\n",
      "反復17, w=0.08\n",
      "反復18, w=0.08\n",
      "反復19, w=0.07\n",
      "反復20, w=0.07\n",
      "反復21, w=0.07\n",
      "反復22, w=0.06\n",
      "反復23, w=0.06\n",
      "反復24, w=0.06\n",
      "反復25, w=0.06\n",
      "反復26, w=0.06\n",
      "反復27, w=0.05\n",
      "反復28, w=0.05\n",
      "反復29, w=0.05\n",
      "反復30, w=0.05\n",
      "反復31, w=0.05\n",
      "反復32, w=0.05\n",
      "反復33, w=0.04\n",
      "反復34, w=0.04\n",
      "反復35, w=0.04\n",
      "反復36, w=0.04\n",
      "反復37, w=0.04\n",
      "反復38, w=0.04\n",
      "反復39, w=0.04\n",
      "反復40, w=0.04\n",
      "反復41, w=0.04\n",
      "反復42, w=0.04\n",
      "反復43, w=0.03\n",
      "反復44, w=0.03\n",
      "反復45, w=0.03\n",
      "反復46, w=0.03\n",
      "反復47, w=0.03\n",
      "反復48, w=0.03\n",
      "反復49, w=0.03\n",
      "反復50, w=0.03\n"
     ]
    }
   ],
   "cell_type": "code",
   "source": [
    "# 最急降下法による最適化\n",
    "# 学習率の設定\n",
    "α = 0.2\n",
    "\n",
    "# パラメーターの初期化\n",
    "w = 1\n",
    "\n",
    "for ite in 1:50\n",
    "    println(\"反復$(ite), w=$(round(w; digits = 2))\")\n",
    "    # 最急降下法によるパラメーターの更新\n",
    "    global w-= α * 3 * w^2\n",
    "end"
   ],
   "metadata": {},
   "execution_count": 26
  },
  {
   "outputs": [
    {
     "name": "stdout",
     "output_type": "stream",
     "text": [
      "データ X1:\n",
      "Bool[0, 1, 1, 0, 0, 1, 1, 0, 1, 0]\n",
      "データ X2:\n",
      "Bool[0, 0, 0, 0, 0, 1, 1, 1, 1, 1]\n",
      "データ X3:\n",
      "Bool[0, 1, 1, 1, 1, 0, 0, 1, 1, 0]\n",
      "データ X1:\n",
      "[-0.0801624859452718, -1.0912192142639132, -0.5805165450434235, -0.3154372460983286, -1.3614476249361172, -0.11445720023473198, 0.1658369675157237, -0.40843803219265074, -1.009783518501397, -0.5438048486401967]\n",
      "データ X2:\n",
      "[1.7732752739906517, 2.4582842802456284, 2.3135064634858282, 2.287068038497515, 2.672941103913246, 3.5148361669491317, 5.417473347868045, 2.6920263400560214, 4.245303385857344, 2.9500497686966383]\n",
      "データ X3:\n",
      "[-4.054777824036921, -3.9871768159072896, -1.5178276320266384, -3.5227721501159825, -4.580700774609182, -2.868157669702522, -2.552642042695429, -3.3962106846886626, -2.6332267441869477, -2.3783267445521994]\n"
     ]
    }
   ],
   "cell_type": "code",
   "source": [
    "### 3.3.2 ベルヌーイ分布\n",
    "# p=6/13(青色のボールの確率)のベルヌーイ分布に従って10回試行を行う\n",
    "using Distributions\n",
    "\n",
    "b = Bernoulli(6/13)\n",
    "\n",
    "X1 = rand(b, 10)\n",
    "X2 = rand(b, 10)\n",
    "X3 = rand(b, 10)\n",
    "\n",
    "# 標準出力\n",
    "println(\"データ X1:\\n$(X1)\")\n",
    "println(\"データ X2:\\n$(X2)\")\n",
    "println(\"データ X3:\\n$(X3)\")\n",
    "\n",
    "\n",
    "### 3.3.9 正規分布\n",
    "# 平均0, 分散1の正規分布に従って10回試行を行う\n",
    "X1 = rand(Normal(0, 1), 10)\n",
    "# 平均3, 分散1の正規分布に従って10回試行を行う\n",
    "X2 = rand(Normal(3, 1), 10)\n",
    "# 平均-3, 分散1の正規分布に従って10回試行を行う\n",
    "X3 = rand(Normal(-3, 1), 10)\n",
    "\n",
    "# 標準出力\n",
    "println(\"データ X1:\\n$(X1)\")\n",
    "println(\"データ X2:\\n$(X2)\")\n",
    "println(\"データ X3:\\n$(X3)\")"
   ],
   "metadata": {},
   "execution_count": 27
  },
  {
   "cell_type": "markdown",
   "source": [
    "## 3.4 統計\n",
    "### 3.4.1 中心の統計量"
   ],
   "metadata": {}
  },
  {
   "outputs": [
    {
     "name": "stdout",
     "output_type": "stream",
     "text": [
      "データ X:\n",
      "[170 60 80; 167 52 93; 174 57 85; 181 70 80; 171 62 70; 171 66 95; 171 66 95; 168 54 85]\n",
      "身長の平均値: 171.625, 体重の平均値:60.875, 胸囲の平均値85.375\n",
      "身長の中央値: 171.0, 体重の中央値:61.0, 胸囲の中央値85.0\n"
     ]
    }
   ],
   "cell_type": "code",
   "source": [
    "# 3種類(身長、体重、胸囲)のデータを格納する8行3列の行列\n",
    "X = [\n",
    "    170 60 80;\n",
    "    167 52 93;\n",
    "    174 57 85;\n",
    "    181 70 80;\n",
    "    171 62 70;\n",
    "    171 66 95;\n",
    "    171 66 95;\n",
    "    168 54 85;\n",
    "]\n",
    "\n",
    "# 行方向(dims=1)に対して、平均値を計算\n",
    "means = mean(X; dims=1)\n",
    "\n",
    "# 行方向(dims=1)に対して、中央値を計算\n",
    "medians = median(X; dims=1)\n",
    "\n",
    "# 標準出力\n",
    "println(\"データ X:\\n$X\")\n",
    "println(\"身長の平均値: $(means[1]), 体重の平均値:$(means[2]), 胸囲の平均値$(means[3])\")\n",
    "println(\"身長の中央値: $(medians[1]), 体重の中央値:$(medians[2]), 胸囲の中央値$(medians[3])\")\n",
    "\n",
    "\n",
    "# src"
   ],
   "metadata": {},
   "execution_count": 28
  },
  {
   "outputs": [
    {
     "name": "stdout",
     "output_type": "stream",
     "text": [
      "データ X:\n",
      "[170 60 80; 167 52 93; 174 57 85; 181 70 80; 171 62 70; 171 66 95; 171 66 95; 168 54 85]\n",
      "分散) 身長:16.484375, 体重:34.859375, 胸囲:67.234375\n",
      "標準偏差) 身長:4.0600954422279285, 体重:5.9041828393097715, 胸囲:8.199657005021612\n",
      "分散共分散行列 バイアスあり:\n",
      "[18.83928571428571 19.517857142857142 -11.267857142857142; 19.517857142857142 39.839285714285715 -3.8035714285714284; -11.267857142857142 -3.8035714285714284 76.83928571428571]\n",
      "分散共分散行列 バイアスなし:\n",
      "[16.484375 17.078125 -9.859375; 17.078125 34.859375 -3.328125; -9.859375 -3.328125 67.234375]\n"
     ]
    }
   ],
   "cell_type": "code",
   "source": [
    "# 分散共分散行列の計算\n",
    "# 3種類(身長、体重、胸囲)のデータを格納する8行3列の行列\n",
    "X = [\n",
    "    170 60 80;\n",
    "    167 52 93;\n",
    "    174 57 85;\n",
    "    181 70 80;\n",
    "    171 62 70;\n",
    "    171 66 95;\n",
    "    171 66 95;\n",
    "    168 54 85;\n",
    "]\n",
    "vars = var(X; corrected=false, dims=1)\n",
    "stds = std(X; corrected=false, dims=1)\n",
    "cov_bias = cov(X)\n",
    "cov_nobias = cov(X; corrected=false)\n",
    "println(\"データ X:\\n$X\")\n",
    "println(\"分散) 身長:$(vars[1]), 体重:$(vars[2]), 胸囲:$(vars[3])\")\n",
    "println(\"標準偏差) 身長:$(stds[1]), 体重:$(stds[2]), 胸囲:$(stds[3])\")\n",
    "println(\"分散共分散行列 バイアスあり:\\n$(cov_bias)\")\n",
    "println(\"分散共分散行列 バイアスなし:\\n$(cov_nobias)\")"
   ],
   "metadata": {},
   "execution_count": 29
  },
  {
   "cell_type": "markdown",
   "source": [
    "### 3.4.7 相関係数と相関行列"
   ],
   "metadata": {}
  },
  {
   "outputs": [
    {
     "name": "stdout",
     "output_type": "stream",
     "text": [
      "データ X:\n",
      "[170 60 80; 167 52 93; 174 57 85; 181 70 80; 171 62 70; 171 66 95; 171 66 95; 168 54 85]\n",
      "相関行列:\n",
      "[1.0 0.7124331954587388 -0.2961539001511891; 0.7124331954587388 1.0 -0.06874547945864228; -0.2961539001511891 -0.06874547945864228 1.0]\n"
     ]
    }
   ],
   "cell_type": "code",
   "source": [
    "# 3種類(身長、体重、胸囲)のデータを格納する8行3列の行列\n",
    "X = [\n",
    "    170 60 80;\n",
    "    167 52 93;\n",
    "    174 57 85;\n",
    "    181 70 80;\n",
    "    171 62 70;\n",
    "    171 66 95;\n",
    "    171 66 95;\n",
    "    168 54 85;\n",
    "]\n",
    "println(\"データ X:\\n$X\")\n",
    "println(\"相関行列:\\n$(cor(X))\")"
   ],
   "metadata": {},
   "execution_count": 30
  },
  {
   "cell_type": "markdown",
   "source": [
    "---\n",
    "\n",
    "*This notebook was generated using [Literate.jl](https://github.com/fredrikekre/Literate.jl).*"
   ],
   "metadata": {}
  }
 ],
 "nbformat_minor": 3,
 "metadata": {
  "language_info": {
   "file_extension": ".jl",
   "mimetype": "application/julia",
   "name": "julia",
   "version": "1.5.2"
  },
  "kernelspec": {
   "name": "julia-1.5",
   "display_name": "Julia 1.5.2",
   "language": "julia"
  }
 },
 "nbformat": 4
}
