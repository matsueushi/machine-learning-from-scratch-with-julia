{
 "cells": [
  {
   "outputs": [
    {
     "name": "stdout",
     "output_type": "stream",
     "text": [
      " Activating environment at `/tmpdir/notebook/Project.toml`\n"
     ]
    }
   ],
   "cell_type": "code",
   "source": [
    "using Pkg; Pkg.activate(\".\"); Pkg.instantiate()"
   ],
   "metadata": {},
   "execution_count": 1
  },
  {
   "cell_type": "markdown",
   "source": [
    "# Chapter 3 - 数学のおさらい"
   ],
   "metadata": {}
  },
  {
   "cell_type": "markdown",
   "source": [
    "## 3.1 線形代数\n",
    "### 3.1.1 スカラーとベクトル"
   ],
   "metadata": {}
  },
  {
   "outputs": [
    {
     "output_type": "execute_result",
     "data": {
      "text/plain": "2-element Array{Float64,1}:\n 5.0\n 3.0"
     },
     "metadata": {},
     "execution_count": 2
    }
   ],
   "cell_type": "code",
   "source": [
    "# 列ベクトル: 2行1列のArrayを定義\n",
    "# Juliaはcolumn-major\n",
    "w = [5.0, 3.0]\n",
    "\n",
    "\n",
    "# 行ベクトル"
   ],
   "metadata": {},
   "execution_count": 2
  },
  {
   "outputs": [
    {
     "output_type": "execute_result",
     "data": {
      "text/plain": "1×2 Array{Float64,2}:\n 5.0  3.0"
     },
     "metadata": {},
     "execution_count": 3
    }
   ],
   "cell_type": "code",
   "source": [
    "# 行ベクトル: 1行2列\n",
    "x = [5.0 3.0]"
   ],
   "metadata": {},
   "execution_count": 3
  },
  {
   "outputs": [
    {
     "output_type": "execute_result",
     "data": {
      "text/plain": "1×5 Array{Float64,2}:\n 0.0  0.0  0.0  0.0  0.0"
     },
     "metadata": {},
     "execution_count": 4
    }
   ],
   "cell_type": "code",
   "source": [
    "# すべての要素が0の1行5列のArrayを生成\n",
    "x_zeros = zeros(1, 5)"
   ],
   "metadata": {},
   "execution_count": 4
  },
  {
   "outputs": [
    {
     "output_type": "execute_result",
     "data": {
      "text/plain": "1×5 Array{Float64,2}:\n 1.0  1.0  1.0  1.0  1.0"
     },
     "metadata": {},
     "execution_count": 5
    }
   ],
   "cell_type": "code",
   "source": [
    "# すべての要素が1の1行5列のArrayを生成\n",
    "x_ones = ones(1, 5)"
   ],
   "metadata": {},
   "execution_count": 5
  },
  {
   "outputs": [
    {
     "output_type": "execute_result",
     "data": {
      "text/plain": "1×5 Array{Float64,2}:\n 0.590845  0.766797  0.566237  0.460085  0.794026"
     },
     "metadata": {},
     "execution_count": 6
    }
   ],
   "cell_type": "code",
   "source": [
    "# 一様分布または正規分布にしたがってランダムに1行5列のArrayを生成\n",
    "using Random\n",
    "Random.seed!(1234)\n",
    "\n",
    "# 一様分布\n",
    "uniform = rand(1, 5)"
   ],
   "metadata": {},
   "execution_count": 6
  },
  {
   "outputs": [
    {
     "output_type": "execute_result",
     "data": {
      "text/plain": "1×5 Array{Float64,2}:\n 2.21188  0.532813  -0.271735  0.502334  -0.516984"
     },
     "metadata": {},
     "execution_count": 7
    }
   ],
   "cell_type": "code",
   "source": [
    "# 正規分布\n",
    "normal = randn(1, 5)"
   ],
   "metadata": {},
   "execution_count": 7
  },
  {
   "outputs": [
    {
     "name": "stdout",
     "output_type": "stream",
     "text": [
      "ベクトル w) 形: (2,), 要素の型:Float64\n",
      "[5.0, 3.0]\n",
      "\n",
      "ベクトル x) 形: (1, 2), 要素の型:Float64\n",
      "[5.0 3.0]\n",
      "\n",
      "ベクトル x_zeros) 形: (1, 5), 要素の型:Float64\n",
      "[0.0 0.0 0.0 0.0 0.0]\n",
      "\n",
      "ベクトル x_ones) 形: (1, 5), 要素の型:Float64\n",
      "[1.0 1.0 1.0 1.0 1.0]\n",
      "\n",
      "ベクトル uniform) 形: (1, 5), 要素の型:Float64\n",
      "[0.5908446386657102 0.7667970365022592 0.5662374165061859 0.4600853424625171 0.7940257103317943]\n",
      "\n",
      "ベクトル normal) 形: (1, 5), 要素の型:Float64\n",
      "[2.2118774995743475 0.5328132821695382 -0.27173539603462066 0.5023344963886675 -0.5169836206932686]\n",
      "\n"
     ]
    },
    {
     "output_type": "execute_result",
     "data": {
      "text/plain": "20.0"
     },
     "metadata": {},
     "execution_count": 8
    }
   ],
   "cell_type": "code",
   "source": [
    "# 標準出力\n",
    "for s in (:w, :x, :x_zeros, :x_ones, :uniform, :normal)\n",
    "    y = eval(s)\n",
    "    println(\"ベクトル $(s)) 形: $(size(y)), 要素の型:$(eltype(y))\\n$(y)\\n\")\n",
    "end\n",
    "\n",
    "\n",
    "### 3.1.2 ベクトルの内積\n",
    "# 列ベクトル: 2行1列のArrayを定義\n",
    "w = [5.0, 3.0]\n",
    "\n",
    "# 行ベクトル: 1行2列\n",
    "x = [1.0 5.0]\n",
    "\n",
    "# 内積の計算\n",
    "# \\cdot\n",
    "using LinearAlgebra\n",
    "xw = x ⋅ w"
   ],
   "metadata": {},
   "execution_count": 8
  },
  {
   "outputs": [
    {
     "output_type": "execute_result",
     "data": {
      "text/plain": "34.0"
     },
     "metadata": {},
     "execution_count": 9
    }
   ],
   "cell_type": "code",
   "source": [
    "# wのノルムの計算: wの転置(行ベクトル)とw(列ベクトル)の掛け算\n",
    "ww = transpose(w) ⋅ w"
   ],
   "metadata": {},
   "execution_count": 9
  },
  {
   "outputs": [
    {
     "output_type": "execute_result",
     "data": {
      "text/plain": "5.830951894845301"
     },
     "metadata": {},
     "execution_count": 10
    }
   ],
   "cell_type": "code",
   "source": [
    "# ノルムを計算する関数が用意されている\n",
    "norm(w)"
   ],
   "metadata": {},
   "execution_count": 10
  },
  {
   "outputs": [
    {
     "name": "stdout",
     "output_type": "stream",
     "text": [
      "xとwの内積) 形: (), 型:Float64\n",
      "20.0\n",
      "\n",
      "wのノルム) 形: (), 型:Float64\n",
      "34.0\n",
      "\n"
     ]
    }
   ],
   "cell_type": "code",
   "source": [
    "println(\"xとwの内積) 形: $(size(xw)), 型:$(typeof(xw))\\n$(xw)\\n\")\n",
    "println(\"wのノルム) 形: $(size(ww)), 型:$(typeof(ww))\\n$(ww)\\n\")"
   ],
   "metadata": {},
   "execution_count": 11
  },
  {
   "cell_type": "markdown",
   "source": [
    "### 3.1.5 行列とベクトルの関係"
   ],
   "metadata": {}
  },
  {
   "outputs": [
    {
     "output_type": "execute_result",
     "data": {
      "text/plain": "3×2 Array{Float64,2}:\n 1.0  2.0\n 2.0  4.0\n 3.0  6.0"
     },
     "metadata": {},
     "execution_count": 12
    }
   ],
   "cell_type": "code",
   "source": [
    "# 行列: 3行2列のArrayを定義\n",
    "X = [1.0 2.0; 2.0 4.0; 3.0 6.0]"
   ],
   "metadata": {},
   "execution_count": 12
  },
  {
   "outputs": [
    {
     "output_type": "execute_result",
     "data": {
      "text/plain": "1×2 Array{Float64,2}:\n 1.0  2.0"
     },
     "metadata": {},
     "execution_count": 13
    }
   ],
   "cell_type": "code",
   "source": [
    "# 1行目の行ベクトル(1行2列)の取り出し\n",
    "Xrow1 = X[[1], :]"
   ],
   "metadata": {},
   "execution_count": 13
  },
  {
   "outputs": [
    {
     "output_type": "execute_result",
     "data": {
      "text/plain": "3×1 Array{Float64,2}:\n 2.0\n 4.0\n 6.0"
     },
     "metadata": {},
     "execution_count": 14
    }
   ],
   "cell_type": "code",
   "source": [
    "# 2列目の列ベクトル(3行1列)の取り出し\n",
    "Xcol2 = X[:, [2]]"
   ],
   "metadata": {},
   "execution_count": 14
  },
  {
   "outputs": [
    {
     "name": "stdout",
     "output_type": "stream",
     "text": [
      "行列X) 形:(3, 2), 要素の型:Float64\n",
      "[1.0 2.0; 2.0 4.0; 3.0 6.0]\n",
      "\n",
      "1行目) 形:(1, 2), 要素の型:Float64\n",
      "[1.0 2.0]\n",
      "\n",
      "2列目) 形:(3, 1), 要素の型:Float64\n",
      "[2.0; 4.0; 6.0]\n",
      "\n"
     ]
    }
   ],
   "cell_type": "code",
   "source": [
    "# 標準出力\n",
    "println(\"行列X) 形:$(size(X)), 要素の型:$(eltype(X))\\n$(X)\\n\")\n",
    "println(\"1行目) 形:$(size(Xrow1)), 要素の型:$(eltype(Xrow1))\\n$(Xrow1)\\n\")\n",
    "println(\"2列目) 形:$(size(Xcol2)), 要素の型:$(eltype(Xcol2))\\n$(Xcol2)\\n\")"
   ],
   "metadata": {},
   "execution_count": 15
  },
  {
   "outputs": [
    {
     "output_type": "execute_result",
     "data": {
      "text/plain": "2-element Array{Float64,1}:\n 1.0\n 2.0"
     },
     "metadata": {},
     "execution_count": 16
    }
   ],
   "cell_type": "code",
   "source": [
    "# リストなしの場合\n",
    "X[1, :]"
   ],
   "metadata": {},
   "execution_count": 16
  },
  {
   "outputs": [
    {
     "output_type": "execute_result",
     "data": {
      "text/plain": "1×2 Array{Float64,2}:\n 1.0  2.0"
     },
     "metadata": {},
     "execution_count": 17
    }
   ],
   "cell_type": "code",
   "source": [
    "# リストありの場合\n",
    "X[[1], :]"
   ],
   "metadata": {},
   "execution_count": 17
  },
  {
   "cell_type": "markdown",
   "source": [
    "### 3.1.6 行列の積と和"
   ],
   "metadata": {}
  },
  {
   "outputs": [
    {
     "name": "stdout",
     "output_type": "stream",
     "text": [
      "積和の結果 \n",
      "[12.0, 23.0, 34.0]\n"
     ]
    }
   ],
   "cell_type": "code",
   "source": [
    "# 行列 X: 3行2列のArrayを定義\n",
    "X = [1.0 2.0; 2.0 4.0; 3.0 6.0]\n",
    "\n",
    "# 列ベクトル b: 2行1列のArrayを定義\n",
    "w = [5.0, 3.0]\n",
    "\n",
    "# 列ベクトル b: 3行1列のArrayを定義\n",
    "b = [1.0, 1.0, 1.0]\n",
    "\n",
    "# 行列とベクトルの積と和\n",
    "res = X * w .+ b\n",
    "println(\"積和の結果 \\n$(res)\")"
   ],
   "metadata": {},
   "execution_count": 18
  },
  {
   "cell_type": "markdown",
   "source": [
    "### 3.1.8 行列の階数"
   ],
   "metadata": {}
  },
  {
   "outputs": [
    {
     "name": "stdout",
     "output_type": "stream",
     "text": [
      "Rank of A: 2\n",
      "Rank of B: 1\n"
     ]
    }
   ],
   "cell_type": "code",
   "source": [
    "# 行列: 2行2列のArrayを定義\n",
    "A = [6.0 2.0; 2.0 5.0]\n",
    "B = [6.0 3.0; 2.0 1.0]\n",
    "\n",
    "# 行列のランクの計算\n",
    "println(\"Rank of A: $(rank(A))\")\n",
    "println(\"Rank of B: $(rank(B))\")"
   ],
   "metadata": {},
   "execution_count": 19
  },
  {
   "outputs": [
    {
     "name": "stdout",
     "output_type": "stream",
     "text": [
      "行列:\n",
      "[6.0 2.0; 2.0 5.0]\n",
      "ランク2\n",
      "逆行列:\n",
      "[0.1923076923076923 -0.07692307692307693; -0.07692307692307693 0.23076923076923078]\n",
      "\n",
      "行列:\n",
      "[6.0 3.0; 2.0 1.0]\n",
      "ランク1\n",
      "特異行列\n"
     ]
    }
   ],
   "cell_type": "code",
   "source": [
    "function find_inv(mat)\n",
    "    if rank(mat) == size(mat)[1]\n",
    "        println(\"行列:\\n$(mat)\\nランク$(rank(mat))\\n逆行列:\\n$(inv(mat))\\n\")\n",
    "    else\n",
    "        println(\"行列:\\n$(mat)\\nランク$(rank(mat))\\n特異行列\")\n",
    "    end\n",
    "end\n",
    "\n",
    "find_inv(A)\n",
    "find_inv(B)"
   ],
   "metadata": {},
   "execution_count": 20
  },
  {
   "cell_type": "markdown",
   "source": [
    "### 3.1.10 行列と行列式の関係"
   ],
   "metadata": {}
  },
  {
   "outputs": [
    {
     "name": "stdout",
     "output_type": "stream",
     "text": [
      "行列Aの行列式: 26.0\n",
      "行列Bの行列式: 0.0\n"
     ]
    }
   ],
   "cell_type": "code",
   "source": [
    "# 行列: 2行2列のArrayを定義\n",
    "A = [6.0 2.0; 2.0 5.0]\n",
    "B = [6.0 3.0; 2.0 1.0]\n",
    "\n",
    "# 行列式の計算\n",
    "println(\"行列Aの行列式: $(det(A))\")\n",
    "println(\"行列Bの行列式: $(det(B))\")"
   ],
   "metadata": {},
   "execution_count": 21
  },
  {
   "cell_type": "markdown",
   "source": [
    "### 3.1.12 固有値問題の解法"
   ],
   "metadata": {}
  },
  {
   "outputs": [
    {
     "output_type": "execute_result",
     "data": {
      "text/plain": "LinearAlgebra.Eigen{Float64,Float64,Array{Float64,2},Array{Float64,1}}\nvalues:\n2-element Array{Float64,1}:\n -1.0\n  5.0\nvectors:\n2×2 Array{Float64,2}:\n -0.447214  0.707107\n  0.894427  0.707107"
     },
     "metadata": {},
     "execution_count": 22
    }
   ],
   "cell_type": "code",
   "source": [
    "# 行列Aの定義\n",
    "A = [3 2; 4 1]\n",
    "\n",
    "# 固有値問題の解\n",
    "eig_A = eigen(A)"
   ],
   "metadata": {},
   "execution_count": 22
  },
  {
   "cell_type": "markdown",
   "source": [
    "### 3.1.13 固有値と固有ベクトルの性質"
   ],
   "metadata": {}
  },
  {
   "outputs": [
    {
     "name": "stdout",
     "output_type": "stream",
     "text": [
      "行列Aの固有値:\n",
      "[2.0, 4.0]\n",
      "行列Aの固有ベクトル:\n",
      "[-0.7071067811865475 0.7071067811865475; 0.7071067811865475 0.7071067811865475]\n",
      "固有ベクトルの内積:0.0\n",
      "固有値の和:6.0\n",
      "行列Aのトレース(対角成分の和):6\n",
      "固有値の積:8.0\n",
      "行列Aの行列式:8.0\n",
      "固有ベクトルがなす行列の逆行列:\n",
      "[-0.7071067811865475 0.7071067811865475; 0.7071067811865475 0.7071067811865475]\n",
      "固有ベクトルがなす行列の転置行列:\n",
      "[-0.7071067811865475 0.7071067811865475; 0.7071067811865475 0.7071067811865475]\n"
     ]
    }
   ],
   "cell_type": "code",
   "source": [
    "# 行列Aの定義\n",
    "A = [3 1; 1 3]\n",
    "\n",
    "# 固有値・固有ベクトル\n",
    "eig_A = eigen(A)\n",
    "\n",
    "println(\"行列Aの固有値:\\n$(eig_A.values)\")\n",
    "println(\"行列Aの固有ベクトル:\\n$(eig_A.vectors)\")\n",
    "println(\"固有ベクトルの内積:$(eig_A.vectors[:, 1] ⋅ eig_A.vectors[:, 2])\")\n",
    "println(\"固有値の和:$(sum(eig_A.values))\")\n",
    "println(\"行列Aのトレース(対角成分の和):$(tr(A))\")\n",
    "println(\"固有値の積:$(prod(eig_A.values))\")\n",
    "println(\"行列Aの行列式:$(det(A))\")\n",
    "println(\"固有ベクトルがなす行列の逆行列:\\n$(eig_A.vectors)\")\n",
    "println(\"固有ベクトルがなす行列の転置行列:\\n$(eig_A.vectors')\")"
   ],
   "metadata": {},
   "execution_count": 23
  },
  {
   "cell_type": "markdown",
   "source": [
    "---\n",
    "\n",
    "*This notebook was generated using [Literate.jl](https://github.com/fredrikekre/Literate.jl).*"
   ],
   "metadata": {}
  }
 ],
 "nbformat_minor": 3,
 "metadata": {
  "language_info": {
   "file_extension": ".jl",
   "mimetype": "application/julia",
   "name": "julia",
   "version": "1.5.2"
  },
  "kernelspec": {
   "name": "julia-1.5",
   "display_name": "Julia 1.5.2",
   "language": "julia"
  }
 },
 "nbformat": 4
}
