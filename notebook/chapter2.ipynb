{
 "cells": [
  {
   "outputs": [
    {
     "name": "stdout",
     "output_type": "stream",
     "text": [
      " Activating environment at `/tmpdir/notebook/Project.toml`\n"
     ]
    }
   ],
   "cell_type": "code",
   "source": [
    "using Pkg; Pkg.activate(\".\"); Pkg.instantiate()"
   ],
   "metadata": {},
   "execution_count": 1
  },
  {
   "cell_type": "markdown",
   "source": [
    "# Chapter 2 - Python..ではなくJulia入門"
   ],
   "metadata": {}
  },
  {
   "cell_type": "markdown",
   "source": [
    "Juliaでは、改行あり出力は`println`"
   ],
   "metadata": {}
  },
  {
   "outputs": [
    {
     "name": "stdout",
     "output_type": "stream",
     "text": [
      "hello\n"
     ]
    }
   ],
   "cell_type": "code",
   "source": [
    "println(\"hello\")"
   ],
   "metadata": {},
   "execution_count": 2
  },
  {
   "cell_type": "markdown",
   "source": [
    "## 2.2 変数と変数出力\n",
    "変数や計算の埋め込みは`$()`で行う。\n",
    "型を調べるのは`type`ではなく`typeof`を用いる。"
   ],
   "metadata": {}
  },
  {
   "outputs": [
    {
     "name": "stdout",
     "output_type": "stream",
     "text": [
      "num=10, typeof(num)=Int64\n",
      "string=Hello World, typeof(string)=String\n"
     ]
    }
   ],
   "cell_type": "code",
   "source": [
    "num = 10\n",
    "string = \"Hello World\"\n",
    "println(\"num=$(num), typeof(num)=$(typeof(num))\")\n",
    "println(\"string=$(string), typeof(string)=$(typeof(string))\")"
   ],
   "metadata": {},
   "execution_count": 3
  },
  {
   "cell_type": "markdown",
   "source": [
    "フォーマット書式ありの出力は標準ライブラリに含まれている`Printf.@sprintf`を使う。\n",
    "Pythonの`.format`に近い表記になる。"
   ],
   "metadata": {}
  },
  {
   "outputs": [
    {
     "name": "stdout",
     "output_type": "stream",
     "text": [
      "小数2位:10.57, 小数5位:10.56780, 小数2位の指数表記:1.06e+01\n"
     ]
    }
   ],
   "cell_type": "code",
   "source": [
    "using Printf\n",
    "\n",
    "num = 10.5678\n",
    "println(@sprintf(\"小数2位:%.2f, 小数5位:%.5f, 小数2位の指数表記:%.2e\", num, num, num))"
   ],
   "metadata": {},
   "execution_count": 4
  },
  {
   "cell_type": "markdown",
   "source": [
    "## 2.3 データ構造\n",
    "### 2.3.1 リスト\n",
    "Juliaではベクトル型が組み込まれているので、Pythonのようにリストとnumpy.ndarrayの相互変換\n",
    "を意識するする必要はない"
   ],
   "metadata": {}
  },
  {
   "outputs": [
    {
     "output_type": "execute_result",
     "data": {
      "text/plain": "2-element Array{Array{Int64,1},1}:\n [120, 180]\n [300, 150]"
     },
     "metadata": {},
     "execution_count": 5
    }
   ],
   "cell_type": "code",
   "source": [
    "price1 = [120, 180]\n",
    "price2 = [300, 150]\n",
    "all = [price1, price2]\n",
    "all"
   ],
   "metadata": {},
   "execution_count": 5
  },
  {
   "cell_type": "markdown",
   "source": [
    "### 2.3.2 リストの大きさ"
   ],
   "metadata": {}
  },
  {
   "outputs": [
    {
     "output_type": "execute_result",
     "data": {
      "text/plain": "2"
     },
     "metadata": {},
     "execution_count": 6
    }
   ],
   "cell_type": "code",
   "source": [
    "length(price1)"
   ],
   "metadata": {},
   "execution_count": 6
  },
  {
   "cell_type": "markdown",
   "source": [
    "### 2.3.3 リストの各要素へのアクセス\n",
    "インデックスが0から始まるPythonと違い、Juliaのインデックスは1から始まる"
   ],
   "metadata": {}
  },
  {
   "outputs": [
    {
     "output_type": "execute_result",
     "data": {
      "text/plain": "120"
     },
     "metadata": {},
     "execution_count": 7
    }
   ],
   "cell_type": "code",
   "source": [
    "# 最初(1番目)の要素: 120\n",
    "price1[1]"
   ],
   "metadata": {},
   "execution_count": 7
  },
  {
   "cell_type": "markdown",
   "source": [
    "最初の要素はfirstでもアクセスできる"
   ],
   "metadata": {}
  },
  {
   "outputs": [
    {
     "output_type": "execute_result",
     "data": {
      "text/plain": "120"
     },
     "metadata": {},
     "execution_count": 8
    }
   ],
   "cell_type": "code",
   "source": [
    "first(price1)"
   ],
   "metadata": {},
   "execution_count": 8
  },
  {
   "outputs": [
    {
     "output_type": "execute_result",
     "data": {
      "text/plain": "2-element Array{Int64,1}:\n 300\n 150"
     },
     "metadata": {},
     "execution_count": 9
    }
   ],
   "cell_type": "code",
   "source": [
    "# 2番目の要素\n",
    "all[2]"
   ],
   "metadata": {},
   "execution_count": 9
  },
  {
   "outputs": [
    {
     "output_type": "execute_result",
     "data": {
      "text/plain": "150"
     },
     "metadata": {},
     "execution_count": 10
    }
   ],
   "cell_type": "code",
   "source": [
    "# 2行 2番目の要素: 150\n",
    "all[2][2]"
   ],
   "metadata": {},
   "execution_count": 10
  },
  {
   "cell_type": "markdown",
   "source": [
    "### 2.3.4 リストの拡張\n",
    "リストの拡張は`push!`を使う"
   ],
   "metadata": {}
  },
  {
   "outputs": [
    {
     "output_type": "execute_result",
     "data": {
      "text/plain": "Any[]"
     },
     "metadata": {},
     "execution_count": 11
    }
   ],
   "cell_type": "code",
   "source": [
    "# 空のリスト\n",
    "price = []"
   ],
   "metadata": {},
   "execution_count": 11
  },
  {
   "outputs": [
    {
     "output_type": "execute_result",
     "data": {
      "text/plain": "1-element Array{Any,1}:\n [120, 180]"
     },
     "metadata": {},
     "execution_count": 12
    }
   ],
   "cell_type": "code",
   "source": [
    "# 要素の追加: [120, 180]\n",
    "push!(price, [120, 180])"
   ],
   "metadata": {},
   "execution_count": 12
  },
  {
   "outputs": [
    {
     "output_type": "execute_result",
     "data": {
      "text/plain": "2-element Array{Any,1}:\n [120, 180]\n [300, 150]"
     },
     "metadata": {},
     "execution_count": 13
    }
   ],
   "cell_type": "code",
   "source": [
    "# 要素の追加: [[120, 180], [300, 150]]\n",
    "push!(price, [300, 150])"
   ],
   "metadata": {},
   "execution_count": 13
  },
  {
   "cell_type": "markdown",
   "source": [
    "### 2.3.5 Vector, Array\n",
    "Juliaではリストと行列、ベクトルの区別を意識しなくて良い"
   ],
   "metadata": {}
  },
  {
   "outputs": [
    {
     "output_type": "execute_result",
     "data": {
      "text/plain": "2-element Array{Int64,1}:\n 120\n 180"
     },
     "metadata": {},
     "execution_count": 14
    }
   ],
   "cell_type": "code",
   "source": [
    "price1 = [120, 180]"
   ],
   "metadata": {},
   "execution_count": 14
  },
  {
   "outputs": [
    {
     "output_type": "execute_result",
     "data": {
      "text/plain": "2×2 Array{Float64,2}:\n 200.0  300.0\n  50.0  150.0"
     },
     "metadata": {},
     "execution_count": 15
    }
   ],
   "cell_type": "code",
   "source": [
    "# Juliaはcolumn oriented\n",
    "price2 = [200 300; 50 150.0]"
   ],
   "metadata": {},
   "execution_count": 15
  },
  {
   "cell_type": "markdown",
   "source": [
    "要素の型は`eltype`を使って確認できる"
   ],
   "metadata": {}
  },
  {
   "outputs": [
    {
     "output_type": "execute_result",
     "data": {
      "text/plain": "Int64"
     },
     "metadata": {},
     "execution_count": 16
    }
   ],
   "cell_type": "code",
   "source": [
    "eltype(price1)"
   ],
   "metadata": {},
   "execution_count": 16
  },
  {
   "outputs": [
    {
     "output_type": "execute_result",
     "data": {
      "text/plain": "Float64"
     },
     "metadata": {},
     "execution_count": 17
    }
   ],
   "cell_type": "code",
   "source": [
    "eltype(price2)"
   ],
   "metadata": {},
   "execution_count": 17
  },
  {
   "cell_type": "markdown",
   "source": [
    "### 2.3.6 Arrayの大きさ\n",
    "\b`Array`のサイズは`size`で調べる"
   ],
   "metadata": {}
  },
  {
   "outputs": [
    {
     "output_type": "execute_result",
     "data": {
      "text/plain": "(2,)"
     },
     "metadata": {},
     "execution_count": 18
    }
   ],
   "cell_type": "code",
   "source": [
    "size(price1)"
   ],
   "metadata": {},
   "execution_count": 18
  },
  {
   "outputs": [
    {
     "output_type": "execute_result",
     "data": {
      "text/plain": "(2, 2)"
     },
     "metadata": {},
     "execution_count": 19
    }
   ],
   "cell_type": "code",
   "source": [
    "size(price2)"
   ],
   "metadata": {},
   "execution_count": 19
  },
  {
   "cell_type": "markdown",
   "source": [
    "### 2.3.7 Arrayのスライシング"
   ],
   "metadata": {}
  },
  {
   "outputs": [
    {
     "output_type": "execute_result",
     "data": {
      "text/plain": "120"
     },
     "metadata": {},
     "execution_count": 20
    }
   ],
   "cell_type": "code",
   "source": [
    "price = [120, 180, 300, 150]\n",
    "\n",
    "# 最初(1番目)の要素: 120\n",
    "price[1]"
   ],
   "metadata": {},
   "execution_count": 20
  },
  {
   "outputs": [
    {
     "output_type": "execute_result",
     "data": {
      "text/plain": "180"
     },
     "metadata": {},
     "execution_count": 21
    }
   ],
   "cell_type": "code",
   "source": [
    "# 2番目の要素: 180\n",
    "price[2]"
   ],
   "metadata": {},
   "execution_count": 21
  },
  {
   "outputs": [
    {
     "output_type": "execute_result",
     "data": {
      "text/plain": "150"
     },
     "metadata": {},
     "execution_count": 22
    }
   ],
   "cell_type": "code",
   "source": [
    "# 最後の要素: 150\n",
    "price[end]"
   ],
   "metadata": {},
   "execution_count": 22
  },
  {
   "outputs": [
    {
     "output_type": "execute_result",
     "data": {
      "text/plain": "300"
     },
     "metadata": {},
     "execution_count": 23
    }
   ],
   "cell_type": "code",
   "source": [
    "# 最後から2番目の要素: 300\n",
    "price[end-1]"
   ],
   "metadata": {},
   "execution_count": 23
  },
  {
   "outputs": [
    {
     "output_type": "execute_result",
     "data": {
      "text/plain": "2-element Array{Int64,1}:\n 180\n 300"
     },
     "metadata": {},
     "execution_count": 24
    }
   ],
   "cell_type": "code",
   "source": [
    "# 2番目から3番目の要素: [180, 300]\n",
    "price[2:3]"
   ],
   "metadata": {},
   "execution_count": 24
  },
  {
   "outputs": [
    {
     "output_type": "execute_result",
     "data": {
      "text/plain": "2-element Array{Int64,1}:\n 120\n 180"
     },
     "metadata": {},
     "execution_count": 25
    }
   ],
   "cell_type": "code",
   "source": [
    "# 最初から2番目までの要素: [120, 180]\n",
    "price[1:2]"
   ],
   "metadata": {},
   "execution_count": 25
  },
  {
   "outputs": [
    {
     "output_type": "execute_result",
     "data": {
      "text/plain": "3-element Array{Int64,1}:\n 120\n 180\n 300"
     },
     "metadata": {},
     "execution_count": 26
    }
   ],
   "cell_type": "code",
   "source": [
    "# 最初から3番目までの要素: [120. 180, 300]\n",
    "price[1:end-1]"
   ],
   "metadata": {},
   "execution_count": 26
  },
  {
   "outputs": [
    {
     "output_type": "execute_result",
     "data": {
      "text/plain": "4-element Array{Int64,1}:\n 120\n 180\n 300\n 150"
     },
     "metadata": {},
     "execution_count": 27
    }
   ],
   "cell_type": "code",
   "source": [
    "# 最初から最後までの要素\n",
    "price[:]"
   ],
   "metadata": {},
   "execution_count": 27
  },
  {
   "cell_type": "markdown",
   "source": [
    "### 2.3.8 Arrayの簡単な計算"
   ],
   "metadata": {}
  },
  {
   "outputs": [
    {
     "output_type": "execute_result",
     "data": {
      "text/plain": "750"
     },
     "metadata": {},
     "execution_count": 28
    }
   ],
   "cell_type": "code",
   "source": [
    "price = [120, 180, 300, 150]\n",
    "\n",
    "# 和: 750\n",
    "sum(price)"
   ],
   "metadata": {},
   "execution_count": 28
  },
  {
   "outputs": [
    {
     "output_type": "execute_result",
     "data": {
      "text/plain": "972000000"
     },
     "metadata": {},
     "execution_count": 29
    }
   ],
   "cell_type": "code",
   "source": [
    "# 積: 972000000\n",
    "prod(price)"
   ],
   "metadata": {},
   "execution_count": 29
  },
  {
   "outputs": [
    {
     "output_type": "execute_result",
     "data": {
      "text/plain": "4-element Array{Int64,1}:\n 14400\n 32400\n 90000\n 22500"
     },
     "metadata": {},
     "execution_count": 30
    }
   ],
   "cell_type": "code",
   "source": [
    "# 二乗: [14400, 32400, 90000, 22500]\n",
    "# `.`でbroadcastする\n",
    "price .^ 2"
   ],
   "metadata": {},
   "execution_count": 30
  },
  {
   "outputs": [
    {
     "output_type": "execute_result",
     "data": {
      "text/plain": "4-element Array{Float64,1}:\n 10.954451150103322\n 13.416407864998739\n 17.320508075688775\n 12.24744871391589"
     },
     "metadata": {},
     "execution_count": 31
    }
   ],
   "cell_type": "code",
   "source": [
    "# 平方根: [10.9544515, 13.41640786, 17.32050808, 12.247448711]\n",
    "sqrt.(price)"
   ],
   "metadata": {},
   "execution_count": 31
  },
  {
   "cell_type": "markdown",
   "source": [
    "統計関連の計算には標準ライブラリであるStatisticsを使う"
   ],
   "metadata": {}
  },
  {
   "outputs": [
    {
     "output_type": "execute_result",
     "data": {
      "text/plain": "187.5"
     },
     "metadata": {},
     "execution_count": 32
    }
   ],
   "cell_type": "code",
   "source": [
    "using Statistics\n",
    "\n",
    "# 平均値: 187.5\n",
    "mean(price)"
   ],
   "metadata": {},
   "execution_count": 32
  },
  {
   "outputs": [
    {
     "output_type": "execute_result",
     "data": {
      "text/plain": "4668.75"
     },
     "metadata": {},
     "execution_count": 33
    }
   ],
   "cell_type": "code",
   "source": [
    "# 分散: 4668.75\n",
    "# Statistics.varはデフォルトで不偏分散を計算するので、標本分散は`corrected=false`とする\n",
    "var(price, corrected=false)"
   ],
   "metadata": {},
   "execution_count": 33
  },
  {
   "outputs": [
    {
     "output_type": "execute_result",
     "data": {
      "text/plain": "6225.0"
     },
     "metadata": {},
     "execution_count": 34
    }
   ],
   "cell_type": "code",
   "source": [
    "var(price)"
   ],
   "metadata": {},
   "execution_count": 34
  },
  {
   "outputs": [
    {
     "output_type": "execute_result",
     "data": {
      "text/plain": "68.32825184358224"
     },
     "metadata": {},
     "execution_count": 35
    }
   ],
   "cell_type": "code",
   "source": [
    "# 標準偏差\n",
    "std(price, corrected=false)"
   ],
   "metadata": {},
   "execution_count": 35
  },
  {
   "outputs": [
    {
     "output_type": "execute_result",
     "data": {
      "text/plain": "120"
     },
     "metadata": {},
     "execution_count": 36
    }
   ],
   "cell_type": "code",
   "source": [
    "# 最小値: 120\n",
    "minimum(price)"
   ],
   "metadata": {},
   "execution_count": 36
  },
  {
   "outputs": [
    {
     "output_type": "execute_result",
     "data": {
      "text/plain": "300"
     },
     "metadata": {},
     "execution_count": 37
    }
   ],
   "cell_type": "code",
   "source": [
    "# 最大値: 300\n",
    "maximum(price)"
   ],
   "metadata": {},
   "execution_count": 37
  },
  {
   "outputs": [
    {
     "output_type": "execute_result",
     "data": {
      "text/plain": "1"
     },
     "metadata": {},
     "execution_count": 38
    }
   ],
   "cell_type": "code",
   "source": [
    "# 最小のインデックス: 1\n",
    "argmin(price)"
   ],
   "metadata": {},
   "execution_count": 38
  },
  {
   "outputs": [
    {
     "output_type": "execute_result",
     "data": {
      "text/plain": "3"
     },
     "metadata": {},
     "execution_count": 39
    }
   ],
   "cell_type": "code",
   "source": [
    "# 最大のインデックス: 3\n",
    "argmax(price)"
   ],
   "metadata": {},
   "execution_count": 39
  },
  {
   "cell_type": "markdown",
   "source": [
    "### 2.3.9 Vectorのソート"
   ],
   "metadata": {}
  },
  {
   "outputs": [
    {
     "output_type": "execute_result",
     "data": {
      "text/plain": "4-element Array{Int64,1}:\n 120\n 150\n 180\n 300"
     },
     "metadata": {},
     "execution_count": 40
    }
   ],
   "cell_type": "code",
   "source": [
    "price = [120, 180, 300, 150]\n",
    "\n",
    "# 昇順に並び替えた値: [120, 150, 180, 300]\n",
    "sort(price)"
   ],
   "metadata": {},
   "execution_count": 40
  },
  {
   "outputs": [
    {
     "output_type": "execute_result",
     "data": {
      "text/plain": "4-element Array{Int64,1}:\n 300\n 180\n 150\n 120"
     },
     "metadata": {},
     "execution_count": 41
    }
   ],
   "cell_type": "code",
   "source": [
    "# 降順に並び替えた値: [300, 180, 150, 120]\n",
    "sort(price, rev=true)"
   ],
   "metadata": {},
   "execution_count": 41
  },
  {
   "outputs": [
    {
     "output_type": "execute_result",
     "data": {
      "text/plain": "4-element Array{Int64,1}:\n 1\n 4\n 2\n 3"
     },
     "metadata": {},
     "execution_count": 42
    }
   ],
   "cell_type": "code",
   "source": [
    "# 昇順に並び替えた値のインデックス: [1, 4, 2, 3]\n",
    "sortperm(price)"
   ],
   "metadata": {},
   "execution_count": 42
  },
  {
   "outputs": [
    {
     "output_type": "execute_result",
     "data": {
      "text/plain": "4-element Array{Int64,1}:\n 3\n 2\n 4\n 1"
     },
     "metadata": {},
     "execution_count": 43
    }
   ],
   "cell_type": "code",
   "source": [
    "# 降順に並び替えた値のインデックス: [3, 2, 4, 1]\n",
    "sortperm(price, rev=true)"
   ],
   "metadata": {},
   "execution_count": 43
  },
  {
   "cell_type": "markdown",
   "source": [
    "### 2.3.10 Vectorのユニーク"
   ],
   "metadata": {}
  },
  {
   "outputs": [
    {
     "output_type": "execute_result",
     "data": {
      "text/plain": "4-element Array{Int64,1}:\n 120\n 180\n 300\n 150"
     },
     "metadata": {},
     "execution_count": 44
    }
   ],
   "cell_type": "code",
   "source": [
    "price = [120, 180, 300, 150, 150]\n",
    "\n",
    "# unique後: [120, 180, 300, 150]\n",
    "# 順番は保存される\n",
    "unique(price)"
   ],
   "metadata": {},
   "execution_count": 44
  },
  {
   "cell_type": "markdown",
   "source": [
    "### 2.3.11 Vectorの条件を満たすインデックス"
   ],
   "metadata": {}
  },
  {
   "outputs": [
    {
     "output_type": "execute_result",
     "data": {
      "text/plain": "2-element Array{Int64,1}:\n 2\n 3"
     },
     "metadata": {},
     "execution_count": 45
    }
   ],
   "cell_type": "code",
   "source": [
    "price = [120, 180, 300, 150]\n",
    "\n",
    "# 条件を満たすインデックスを取得するにはfindall\n",
    "findall(x -> x > 150, price)"
   ],
   "metadata": {},
   "execution_count": 45
  },
  {
   "outputs": [
    {
     "output_type": "execute_result",
     "data": {
      "text/plain": "4-element BitArray{1}:\n 0\n 1\n 1\n 0"
     },
     "metadata": {},
     "execution_count": 46
    }
   ],
   "cell_type": "code",
   "source": [
    "# マスクを作成するのはbroadcastを使えば簡単\n",
    "indices = price .> 150"
   ],
   "metadata": {},
   "execution_count": 46
  },
  {
   "cell_type": "markdown",
   "source": [
    "### 2.3.12 Arrayの結合"
   ],
   "metadata": {}
  },
  {
   "outputs": [
    {
     "output_type": "execute_result",
     "data": {
      "text/plain": "2×2 Array{Int64,2}:\n 120  300\n 180  150"
     },
     "metadata": {},
     "execution_count": 47
    }
   ],
   "cell_type": "code",
   "source": [
    "price1 = [120, 180]\n",
    "price2 = [300, 150]\n",
    "\n",
    "# horizontal方向への結合\n",
    "hcat(price1, price2)"
   ],
   "metadata": {},
   "execution_count": 47
  },
  {
   "outputs": [
    {
     "output_type": "execute_result",
     "data": {
      "text/plain": "2×2 Array{Int64,2}:\n 120  300\n 180  150"
     },
     "metadata": {},
     "execution_count": 48
    }
   ],
   "cell_type": "code",
   "source": [
    "# catを使っても書ける\n",
    "cat(price1, price2; dims=2)"
   ],
   "metadata": {},
   "execution_count": 48
  },
  {
   "outputs": [
    {
     "output_type": "execute_result",
     "data": {
      "text/plain": "4-element Array{Int64,1}:\n 120\n 180\n 300\n 150"
     },
     "metadata": {},
     "execution_count": 49
    }
   ],
   "cell_type": "code",
   "source": [
    "# vertical方向への結合\n",
    "vcat(price1, price2)"
   ],
   "metadata": {},
   "execution_count": 49
  },
  {
   "outputs": [
    {
     "output_type": "execute_result",
     "data": {
      "text/plain": "4-element Array{Int64,1}:\n 120\n 180\n 300\n 150"
     },
     "metadata": {},
     "execution_count": 50
    }
   ],
   "cell_type": "code",
   "source": [
    "# catを使っても書ける\n",
    "cat(price1, price2; dims=1)"
   ],
   "metadata": {},
   "execution_count": 50
  },
  {
   "outputs": [
    {
     "output_type": "execute_result",
     "data": {
      "text/plain": "1×1×2 Array{Int64,3}:\n[:, :, 1] =\n 300\n\n[:, :, 2] =\n 150"
     },
     "metadata": {},
     "execution_count": 51
    }
   ],
   "cell_type": "code",
   "source": [
    "price1 = reshape([120, 180], 1, 1, :)\n",
    "price2 = reshape([300, 150], 1, 1, :)"
   ],
   "metadata": {},
   "execution_count": 51
  },
  {
   "outputs": [
    {
     "output_type": "execute_result",
     "data": {
      "text/plain": "1×2×2 Array{Int64,3}:\n[:, :, 1] =\n 120  300\n\n[:, :, 2] =\n 180  150"
     },
     "metadata": {},
     "execution_count": 52
    }
   ],
   "cell_type": "code",
   "source": [
    "hcat(price1, price2)"
   ],
   "metadata": {},
   "execution_count": 52
  },
  {
   "outputs": [
    {
     "output_type": "execute_result",
     "data": {
      "text/plain": "2×1×2 Array{Int64,3}:\n[:, :, 1] =\n 120\n 300\n\n[:, :, 2] =\n 180\n 150"
     },
     "metadata": {},
     "execution_count": 53
    }
   ],
   "cell_type": "code",
   "source": [
    "vcat(price1, price2)"
   ],
   "metadata": {},
   "execution_count": 53
  },
  {
   "outputs": [
    {
     "output_type": "execute_result",
     "data": {
      "text/plain": "1×1×4 Array{Int64,3}:\n[:, :, 1] =\n 120\n\n[:, :, 2] =\n 180\n\n[:, :, 3] =\n 300\n\n[:, :, 4] =\n 150"
     },
     "metadata": {},
     "execution_count": 54
    }
   ],
   "cell_type": "code",
   "source": [
    "cat(price1, price2; dims=3)"
   ],
   "metadata": {},
   "execution_count": 54
  },
  {
   "cell_type": "markdown",
   "source": [
    "### 2.3.13 Arrayの変形"
   ],
   "metadata": {}
  },
  {
   "outputs": [
    {
     "output_type": "execute_result",
     "data": {
      "text/plain": "4-element Array{Int64,1}:\n 120\n 180\n 300\n 150"
     },
     "metadata": {},
     "execution_count": 55
    }
   ],
   "cell_type": "code",
   "source": [
    "price = [120, 180, 300, 150]"
   ],
   "metadata": {},
   "execution_count": 55
  },
  {
   "outputs": [
    {
     "output_type": "execute_result",
     "data": {
      "text/plain": "2×2 Array{Int64,2}:\n 120  300\n 180  150"
     },
     "metadata": {},
     "execution_count": 56
    }
   ],
   "cell_type": "code",
   "source": [
    "# 2行 2列に変形\n",
    "reshape(price, 2, 2)"
   ],
   "metadata": {},
   "execution_count": 56
  },
  {
   "outputs": [
    {
     "output_type": "execute_result",
     "data": {
      "text/plain": "2×2 Array{Int64,2}:\n 120  300\n 180  150"
     },
     "metadata": {},
     "execution_count": 57
    }
   ],
   "cell_type": "code",
   "source": [
    "# 2行 2列に変形(自動)\n",
    "reshape(price, 2, :)"
   ],
   "metadata": {},
   "execution_count": 57
  },
  {
   "outputs": [
    {
     "output_type": "execute_result",
     "data": {
      "text/plain": "4×1 Array{Int64,2}:\n 120\n 180\n 300\n 150"
     },
     "metadata": {},
     "execution_count": 58
    }
   ],
   "cell_type": "code",
   "source": [
    "# 4行 1列に変形\n",
    "reshape(price, 4, 1)"
   ],
   "metadata": {},
   "execution_count": 58
  },
  {
   "cell_type": "markdown",
   "source": [
    "### 2.3.14 Arrayの繰り返し"
   ],
   "metadata": {}
  },
  {
   "outputs": [
    {
     "output_type": "execute_result",
     "data": {
      "text/plain": "8×1 Array{Int64,2}:\n 120\n 180\n 300\n 150\n 120\n 180\n 300\n 150"
     },
     "metadata": {},
     "execution_count": 59
    }
   ],
   "cell_type": "code",
   "source": [
    "price = [120, 180, 300, 150]\n",
    "\n",
    "# 行方向に2回、列方向に1回繰り返す\n",
    "repeat(price, 2, 1)"
   ],
   "metadata": {},
   "execution_count": 59
  },
  {
   "outputs": [
    {
     "output_type": "execute_result",
     "data": {
      "text/plain": "4×2 Array{Int64,2}:\n 120  120\n 180  180\n 300  300\n 150  150"
     },
     "metadata": {},
     "execution_count": 60
    }
   ],
   "cell_type": "code",
   "source": [
    "# 行方向に1回、列方向に2回繰り返す\n",
    "repeat(price, 1, 2)"
   ],
   "metadata": {},
   "execution_count": 60
  },
  {
   "outputs": [
    {
     "output_type": "execute_result",
     "data": {
      "text/plain": "4×1×2 Array{Int64,3}:\n[:, :, 1] =\n 120\n 180\n 300\n 150\n\n[:, :, 2] =\n 120\n 180\n 300\n 150"
     },
     "metadata": {},
     "execution_count": 61
    }
   ],
   "cell_type": "code",
   "source": [
    "# 奥方向に2回、行・列方向に1回繰り返す\n",
    "repeat(price, 1, 1, 2)"
   ],
   "metadata": {},
   "execution_count": 61
  },
  {
   "cell_type": "markdown",
   "source": [
    "### 2.3.15 Arrayの次元拡張"
   ],
   "metadata": {}
  },
  {
   "outputs": [
    {
     "output_type": "execute_result",
     "data": {
      "text/plain": "(4,)"
     },
     "metadata": {},
     "execution_count": 62
    }
   ],
   "cell_type": "code",
   "source": [
    "price = [120, 180, 300, 150]\n",
    "\n",
    "size(price)"
   ],
   "metadata": {},
   "execution_count": 62
  },
  {
   "outputs": [
    {
     "output_type": "execute_result",
     "data": {
      "text/plain": "(1, 4)"
     },
     "metadata": {},
     "execution_count": 63
    }
   ],
   "cell_type": "code",
   "source": [
    "# 行方向に増やした後のsize\n",
    "size(reshape(price, 1, :))"
   ],
   "metadata": {},
   "execution_count": 63
  },
  {
   "outputs": [
    {
     "output_type": "execute_result",
     "data": {
      "text/plain": "(4, 1)"
     },
     "metadata": {},
     "execution_count": 64
    }
   ],
   "cell_type": "code",
   "source": [
    "# 列方向に増やした後のsize\n",
    "size(reshape(price, :, 1))"
   ],
   "metadata": {},
   "execution_count": 64
  },
  {
   "cell_type": "markdown",
   "source": [
    "### 2.3.16 Arrayの(軸方向の)回転"
   ],
   "metadata": {}
  },
  {
   "outputs": [
    {
     "output_type": "execute_result",
     "data": {
      "text/plain": "2×2 Array{Int64,2}:\n 120  180\n 300  150"
     },
     "metadata": {},
     "execution_count": 65
    }
   ],
   "cell_type": "code",
   "source": [
    "price = [120 180; 300 150]"
   ],
   "metadata": {},
   "execution_count": 65
  },
  {
   "outputs": [
    {
     "output_type": "execute_result",
     "data": {
      "text/plain": "2×2 Array{Int64,2}:\n 300  150\n 120  180"
     },
     "metadata": {},
     "execution_count": 66
    }
   ],
   "cell_type": "code",
   "source": [
    "# 行方向に1つ回転する\n",
    "circshift(price, (1, 0))"
   ],
   "metadata": {},
   "execution_count": 66
  },
  {
   "outputs": [
    {
     "output_type": "execute_result",
     "data": {
      "text/plain": "2×2 Array{Int64,2}:\n 180  120\n 150  300"
     },
     "metadata": {},
     "execution_count": 67
    }
   ],
   "cell_type": "code",
   "source": [
    "# 列方向に1つ回転する\n",
    "circshift(price, (0, 1))"
   ],
   "metadata": {},
   "execution_count": 67
  },
  {
   "outputs": [
    {
     "output_type": "execute_result",
     "data": {
      "text/plain": "2×2 Array{Int64,2}:\n 300  120\n 150  180"
     },
     "metadata": {},
     "execution_count": 68
    }
   ],
   "cell_type": "code",
   "source": [
    "# 回転\n",
    "rotr90(price, 1)"
   ],
   "metadata": {},
   "execution_count": 68
  },
  {
   "outputs": [
    {
     "output_type": "execute_result",
     "data": {
      "text/plain": "2×2 Array{Int64,2}:\n 150  300\n 180  120"
     },
     "metadata": {},
     "execution_count": 69
    }
   ],
   "cell_type": "code",
   "source": [
    "rotl90(price, 2)"
   ],
   "metadata": {},
   "execution_count": 69
  },
  {
   "cell_type": "markdown",
   "source": [
    "### 2.3.17 Arrayのインデックスの生成"
   ],
   "metadata": {}
  },
  {
   "outputs": [
    {
     "output_type": "execute_result",
     "data": {
      "text/plain": "1:4"
     },
     "metadata": {},
     "execution_count": 70
    }
   ],
   "cell_type": "code",
   "source": [
    "price = [120, 180, 300, 150]\n",
    "\n",
    "# 1:4\n",
    "1:length(price)"
   ],
   "metadata": {},
   "execution_count": 70
  },
  {
   "outputs": [
    {
     "output_type": "execute_result",
     "data": {
      "text/plain": "4-element Array{Int64,1}:\n 1\n 2\n 3\n 4"
     },
     "metadata": {},
     "execution_count": 71
    }
   ],
   "cell_type": "code",
   "source": [
    "# [1, 2, 3, 4]\n",
    "collect(1:length(price))"
   ],
   "metadata": {},
   "execution_count": 71
  },
  {
   "cell_type": "markdown",
   "source": [
    "### 2.3.18 Arrayのインデックスのシャッフル"
   ],
   "metadata": {}
  },
  {
   "outputs": [
    {
     "output_type": "execute_result",
     "data": {
      "text/plain": "4-element Array{Int64,1}:\n 2\n 1\n 4\n 3"
     },
     "metadata": {},
     "execution_count": 72
    }
   ],
   "cell_type": "code",
   "source": [
    "using Random\n",
    "\n",
    "# シードを固定しておく\n",
    "Random.seed!(1234)\n",
    "\n",
    "price = [120, 180, 300, 150]\n",
    "\n",
    "randperm(length(price))"
   ],
   "metadata": {},
   "execution_count": 72
  },
  {
   "cell_type": "markdown",
   "source": [
    "### 2.3.19 単位行列の生成"
   ],
   "metadata": {}
  },
  {
   "outputs": [
    {
     "output_type": "execute_result",
     "data": {
      "text/plain": "5×5 Array{Bool,2}:\n 1  0  0  0  0\n 0  1  0  0  0\n 0  0  1  0  0\n 0  0  0  1  0\n 0  0  0  0  1"
     },
     "metadata": {},
     "execution_count": 73
    }
   ],
   "cell_type": "code",
   "source": [
    "using LinearAlgebra\n",
    "\n",
    "Matrix(I, 5, 5)"
   ],
   "metadata": {},
   "execution_count": 73
  },
  {
   "cell_type": "markdown",
   "source": [
    "### 2.3.20 CSV.jl & DataFrames.jl\n",
    "https://www.kaggle.com/c/house-prices-advanced-regression-techniques/data?select=train.csv\n",
    "からファイルをダウンロードしてdataフォルダに保存しているとする"
   ],
   "metadata": {}
  },
  {
   "outputs": [],
   "cell_type": "code",
   "source": [
    "# CSVファイルの読み込み"
   ],
   "metadata": {},
   "execution_count": 74
  },
  {
   "cell_type": "markdown",
   "source": [
    "pandas.DataFrameのようなDataFrameの構造を扱うにはDataFrames.jlを使う。"
   ],
   "metadata": {}
  },
  {
   "outputs": [],
   "cell_type": "code",
   "source": [
    "using CSV\n",
    "using DataFrames"
   ],
   "metadata": {},
   "execution_count": 75
  },
  {
   "outputs": [
    {
     "output_type": "execute_result",
     "data": {
      "text/plain": "1460×81 DataFrame. Omitted printing of 75 columns\n│ Row  │ Id    │ MSSubClass │ MSZoning │ LotFrontage │ LotArea │ Street │\n│      │ \u001b[90mInt64\u001b[39m │ \u001b[90mInt64\u001b[39m      │ \u001b[90mString\u001b[39m   │ \u001b[90mString\u001b[39m      │ \u001b[90mInt64\u001b[39m   │ \u001b[90mString\u001b[39m │\n├──────┼───────┼────────────┼──────────┼─────────────┼─────────┼────────┤\n│ 1    │ 1     │ 60         │ RL       │ 65          │ 8450    │ Pave   │\n│ 2    │ 2     │ 20         │ RL       │ 80          │ 9600    │ Pave   │\n│ 3    │ 3     │ 60         │ RL       │ 68          │ 11250   │ Pave   │\n│ 4    │ 4     │ 70         │ RL       │ 60          │ 9550    │ Pave   │\n│ 5    │ 5     │ 60         │ RL       │ 84          │ 14260   │ Pave   │\n│ 6    │ 6     │ 50         │ RL       │ 85          │ 14115   │ Pave   │\n│ 7    │ 7     │ 20         │ RL       │ 75          │ 10084   │ Pave   │\n⋮\n│ 1453 │ 1453  │ 180        │ RM       │ 35          │ 3675    │ Pave   │\n│ 1454 │ 1454  │ 20         │ RL       │ 90          │ 17217   │ Pave   │\n│ 1455 │ 1455  │ 20         │ FV       │ 62          │ 7500    │ Pave   │\n│ 1456 │ 1456  │ 60         │ RL       │ 62          │ 7917    │ Pave   │\n│ 1457 │ 1457  │ 20         │ RL       │ 85          │ 13175   │ Pave   │\n│ 1458 │ 1458  │ 70         │ RL       │ 66          │ 9042    │ Pave   │\n│ 1459 │ 1459  │ 20         │ RL       │ 68          │ 9717    │ Pave   │\n│ 1460 │ 1460  │ 20         │ RL       │ 75          │ 9937    │ Pave   │",
      "text/html": [
       "<table class=\"data-frame\"><thead><tr><th></th><th>Id</th><th>MSSubClass</th><th>MSZoning</th><th>LotFrontage</th><th>LotArea</th><th>Street</th><th>Alley</th><th>LotShape</th><th>LandContour</th></tr><tr><th></th><th>Int64</th><th>Int64</th><th>String</th><th>String</th><th>Int64</th><th>String</th><th>String</th><th>String</th><th>String</th></tr></thead><tbody><p>1,460 rows × 81 columns (omitted printing of 72 columns)</p><tr><th>1</th><td>1</td><td>60</td><td>RL</td><td>65</td><td>8450</td><td>Pave</td><td>NA</td><td>Reg</td><td>Lvl</td></tr><tr><th>2</th><td>2</td><td>20</td><td>RL</td><td>80</td><td>9600</td><td>Pave</td><td>NA</td><td>Reg</td><td>Lvl</td></tr><tr><th>3</th><td>3</td><td>60</td><td>RL</td><td>68</td><td>11250</td><td>Pave</td><td>NA</td><td>IR1</td><td>Lvl</td></tr><tr><th>4</th><td>4</td><td>70</td><td>RL</td><td>60</td><td>9550</td><td>Pave</td><td>NA</td><td>IR1</td><td>Lvl</td></tr><tr><th>5</th><td>5</td><td>60</td><td>RL</td><td>84</td><td>14260</td><td>Pave</td><td>NA</td><td>IR1</td><td>Lvl</td></tr><tr><th>6</th><td>6</td><td>50</td><td>RL</td><td>85</td><td>14115</td><td>Pave</td><td>NA</td><td>IR1</td><td>Lvl</td></tr><tr><th>7</th><td>7</td><td>20</td><td>RL</td><td>75</td><td>10084</td><td>Pave</td><td>NA</td><td>Reg</td><td>Lvl</td></tr><tr><th>8</th><td>8</td><td>60</td><td>RL</td><td>NA</td><td>10382</td><td>Pave</td><td>NA</td><td>IR1</td><td>Lvl</td></tr><tr><th>9</th><td>9</td><td>50</td><td>RM</td><td>51</td><td>6120</td><td>Pave</td><td>NA</td><td>Reg</td><td>Lvl</td></tr><tr><th>10</th><td>10</td><td>190</td><td>RL</td><td>50</td><td>7420</td><td>Pave</td><td>NA</td><td>Reg</td><td>Lvl</td></tr><tr><th>11</th><td>11</td><td>20</td><td>RL</td><td>70</td><td>11200</td><td>Pave</td><td>NA</td><td>Reg</td><td>Lvl</td></tr><tr><th>12</th><td>12</td><td>60</td><td>RL</td><td>85</td><td>11924</td><td>Pave</td><td>NA</td><td>IR1</td><td>Lvl</td></tr><tr><th>13</th><td>13</td><td>20</td><td>RL</td><td>NA</td><td>12968</td><td>Pave</td><td>NA</td><td>IR2</td><td>Lvl</td></tr><tr><th>14</th><td>14</td><td>20</td><td>RL</td><td>91</td><td>10652</td><td>Pave</td><td>NA</td><td>IR1</td><td>Lvl</td></tr><tr><th>15</th><td>15</td><td>20</td><td>RL</td><td>NA</td><td>10920</td><td>Pave</td><td>NA</td><td>IR1</td><td>Lvl</td></tr><tr><th>16</th><td>16</td><td>45</td><td>RM</td><td>51</td><td>6120</td><td>Pave</td><td>NA</td><td>Reg</td><td>Lvl</td></tr><tr><th>17</th><td>17</td><td>20</td><td>RL</td><td>NA</td><td>11241</td><td>Pave</td><td>NA</td><td>IR1</td><td>Lvl</td></tr><tr><th>18</th><td>18</td><td>90</td><td>RL</td><td>72</td><td>10791</td><td>Pave</td><td>NA</td><td>Reg</td><td>Lvl</td></tr><tr><th>19</th><td>19</td><td>20</td><td>RL</td><td>66</td><td>13695</td><td>Pave</td><td>NA</td><td>Reg</td><td>Lvl</td></tr><tr><th>20</th><td>20</td><td>20</td><td>RL</td><td>70</td><td>7560</td><td>Pave</td><td>NA</td><td>Reg</td><td>Lvl</td></tr><tr><th>21</th><td>21</td><td>60</td><td>RL</td><td>101</td><td>14215</td><td>Pave</td><td>NA</td><td>IR1</td><td>Lvl</td></tr><tr><th>22</th><td>22</td><td>45</td><td>RM</td><td>57</td><td>7449</td><td>Pave</td><td>Grvl</td><td>Reg</td><td>Bnk</td></tr><tr><th>23</th><td>23</td><td>20</td><td>RL</td><td>75</td><td>9742</td><td>Pave</td><td>NA</td><td>Reg</td><td>Lvl</td></tr><tr><th>24</th><td>24</td><td>120</td><td>RM</td><td>44</td><td>4224</td><td>Pave</td><td>NA</td><td>Reg</td><td>Lvl</td></tr><tr><th>&vellip;</th><td>&vellip;</td><td>&vellip;</td><td>&vellip;</td><td>&vellip;</td><td>&vellip;</td><td>&vellip;</td><td>&vellip;</td><td>&vellip;</td><td>&vellip;</td></tr></tbody></table>"
      ]
     },
     "metadata": {},
     "execution_count": 76
    }
   ],
   "cell_type": "code",
   "source": [
    "data = CSV.read(\"../data/house-prices-advanced-regression-techniques/train.csv\", DataFrame)"
   ],
   "metadata": {},
   "execution_count": 76
  },
  {
   "outputs": [
    {
     "output_type": "execute_result",
     "data": {
      "text/plain": "5×81 DataFrame. Omitted printing of 75 columns\n│ Row │ Id    │ MSSubClass │ MSZoning │ LotFrontage │ LotArea │ Street │\n│     │ \u001b[90mInt64\u001b[39m │ \u001b[90mInt64\u001b[39m      │ \u001b[90mString\u001b[39m   │ \u001b[90mString\u001b[39m      │ \u001b[90mInt64\u001b[39m   │ \u001b[90mString\u001b[39m │\n├─────┼───────┼────────────┼──────────┼─────────────┼─────────┼────────┤\n│ 1   │ 1     │ 60         │ RL       │ 65          │ 8450    │ Pave   │\n│ 2   │ 2     │ 20         │ RL       │ 80          │ 9600    │ Pave   │\n│ 3   │ 3     │ 60         │ RL       │ 68          │ 11250   │ Pave   │\n│ 4   │ 4     │ 70         │ RL       │ 60          │ 9550    │ Pave   │\n│ 5   │ 5     │ 60         │ RL       │ 84          │ 14260   │ Pave   │",
      "text/html": [
       "<table class=\"data-frame\"><thead><tr><th></th><th>Id</th><th>MSSubClass</th><th>MSZoning</th><th>LotFrontage</th><th>LotArea</th><th>Street</th><th>Alley</th><th>LotShape</th><th>LandContour</th></tr><tr><th></th><th>Int64</th><th>Int64</th><th>String</th><th>String</th><th>Int64</th><th>String</th><th>String</th><th>String</th><th>String</th></tr></thead><tbody><p>5 rows × 81 columns (omitted printing of 72 columns)</p><tr><th>1</th><td>1</td><td>60</td><td>RL</td><td>65</td><td>8450</td><td>Pave</td><td>NA</td><td>Reg</td><td>Lvl</td></tr><tr><th>2</th><td>2</td><td>20</td><td>RL</td><td>80</td><td>9600</td><td>Pave</td><td>NA</td><td>Reg</td><td>Lvl</td></tr><tr><th>3</th><td>3</td><td>60</td><td>RL</td><td>68</td><td>11250</td><td>Pave</td><td>NA</td><td>IR1</td><td>Lvl</td></tr><tr><th>4</th><td>4</td><td>70</td><td>RL</td><td>60</td><td>9550</td><td>Pave</td><td>NA</td><td>IR1</td><td>Lvl</td></tr><tr><th>5</th><td>5</td><td>60</td><td>RL</td><td>84</td><td>14260</td><td>Pave</td><td>NA</td><td>IR1</td><td>Lvl</td></tr></tbody></table>"
      ]
     },
     "metadata": {},
     "execution_count": 77
    }
   ],
   "cell_type": "code",
   "source": [
    "# 5行目まで\n",
    "first(data, 5)"
   ],
   "metadata": {},
   "execution_count": 77
  },
  {
   "outputs": [
    {
     "output_type": "execute_result",
     "data": {
      "text/plain": "81-element Array{String,1}:\n \"Id\"\n \"MSSubClass\"\n \"MSZoning\"\n \"LotFrontage\"\n \"LotArea\"\n \"Street\"\n \"Alley\"\n \"LotShape\"\n \"LandContour\"\n \"Utilities\"\n ⋮\n \"PoolQC\"\n \"Fence\"\n \"MiscFeature\"\n \"MiscVal\"\n \"MoSold\"\n \"YrSold\"\n \"SaleType\"\n \"SaleCondition\"\n \"SalePrice\""
     },
     "metadata": {},
     "execution_count": 78
    }
   ],
   "cell_type": "code",
   "source": [
    "# カラムの一覧\n",
    "names(data)"
   ],
   "metadata": {},
   "execution_count": 78
  },
  {
   "outputs": [
    {
     "output_type": "execute_result",
     "data": {
      "text/plain": "15-element Array{Int64,1}:\n  60\n  20\n  70\n  50\n 190\n  45\n  90\n 120\n  30\n  85\n  80\n 160\n  75\n 180\n  40"
     },
     "metadata": {},
     "execution_count": 79
    }
   ],
   "cell_type": "code",
   "source": [
    "# 建物の特徴(MSSubClass)\n",
    "unique(data[!, :MSSubClass])"
   ],
   "metadata": {},
   "execution_count": 79
  },
  {
   "cell_type": "markdown",
   "source": [
    "### 2.3.21 DataFrameからArrayへの変換"
   ],
   "metadata": {}
  },
  {
   "outputs": [
    {
     "output_type": "execute_result",
     "data": {
      "text/plain": "1460×2 Array{Int64,2}:\n 1710  208500\n 1262  181500\n 1786  223500\n 1717  140000\n 2198  250000\n 1362  143000\n 1694  307000\n 2090  200000\n 1774  129900\n 1077  118000\n    ⋮  \n 1578  287090\n 1072  145000\n 1140   84500\n 1221  185000\n 1647  175000\n 2073  210000\n 2340  266500\n 1078  142125\n 1256  147500"
     },
     "metadata": {},
     "execution_count": 80
    }
   ],
   "cell_type": "code",
   "source": [
    "Array(data[!, [:GrLivArea, :SalePrice]])"
   ],
   "metadata": {},
   "execution_count": 80
  },
  {
   "cell_type": "markdown",
   "source": [
    "### 2.3.22 DafaFrameのカラムの削除"
   ],
   "metadata": {}
  },
  {
   "outputs": [
    {
     "output_type": "execute_result",
     "data": {
      "text/plain": "81"
     },
     "metadata": {},
     "execution_count": 81
    }
   ],
   "cell_type": "code",
   "source": [
    "length(names(data))"
   ],
   "metadata": {},
   "execution_count": 81
  },
  {
   "outputs": [
    {
     "output_type": "execute_result",
     "data": {
      "text/plain": "1460×80 DataFrame. Omitted printing of 74 columns\n│ Row  │ Id    │ MSSubClass │ MSZoning │ LotFrontage │ LotArea │ Street │\n│      │ \u001b[90mInt64\u001b[39m │ \u001b[90mInt64\u001b[39m      │ \u001b[90mString\u001b[39m   │ \u001b[90mString\u001b[39m      │ \u001b[90mInt64\u001b[39m   │ \u001b[90mString\u001b[39m │\n├──────┼───────┼────────────┼──────────┼─────────────┼─────────┼────────┤\n│ 1    │ 1     │ 60         │ RL       │ 65          │ 8450    │ Pave   │\n│ 2    │ 2     │ 20         │ RL       │ 80          │ 9600    │ Pave   │\n│ 3    │ 3     │ 60         │ RL       │ 68          │ 11250   │ Pave   │\n│ 4    │ 4     │ 70         │ RL       │ 60          │ 9550    │ Pave   │\n│ 5    │ 5     │ 60         │ RL       │ 84          │ 14260   │ Pave   │\n│ 6    │ 6     │ 50         │ RL       │ 85          │ 14115   │ Pave   │\n│ 7    │ 7     │ 20         │ RL       │ 75          │ 10084   │ Pave   │\n⋮\n│ 1453 │ 1453  │ 180        │ RM       │ 35          │ 3675    │ Pave   │\n│ 1454 │ 1454  │ 20         │ RL       │ 90          │ 17217   │ Pave   │\n│ 1455 │ 1455  │ 20         │ FV       │ 62          │ 7500    │ Pave   │\n│ 1456 │ 1456  │ 60         │ RL       │ 62          │ 7917    │ Pave   │\n│ 1457 │ 1457  │ 20         │ RL       │ 85          │ 13175   │ Pave   │\n│ 1458 │ 1458  │ 70         │ RL       │ 66          │ 9042    │ Pave   │\n│ 1459 │ 1459  │ 20         │ RL       │ 68          │ 9717    │ Pave   │\n│ 1460 │ 1460  │ 20         │ RL       │ 75          │ 9937    │ Pave   │",
      "text/html": [
       "<table class=\"data-frame\"><thead><tr><th></th><th>Id</th><th>MSSubClass</th><th>MSZoning</th><th>LotFrontage</th><th>LotArea</th><th>Street</th><th>Alley</th><th>LotShape</th><th>LandContour</th></tr><tr><th></th><th>Int64</th><th>Int64</th><th>String</th><th>String</th><th>Int64</th><th>String</th><th>String</th><th>String</th><th>String</th></tr></thead><tbody><p>1,460 rows × 80 columns (omitted printing of 71 columns)</p><tr><th>1</th><td>1</td><td>60</td><td>RL</td><td>65</td><td>8450</td><td>Pave</td><td>NA</td><td>Reg</td><td>Lvl</td></tr><tr><th>2</th><td>2</td><td>20</td><td>RL</td><td>80</td><td>9600</td><td>Pave</td><td>NA</td><td>Reg</td><td>Lvl</td></tr><tr><th>3</th><td>3</td><td>60</td><td>RL</td><td>68</td><td>11250</td><td>Pave</td><td>NA</td><td>IR1</td><td>Lvl</td></tr><tr><th>4</th><td>4</td><td>70</td><td>RL</td><td>60</td><td>9550</td><td>Pave</td><td>NA</td><td>IR1</td><td>Lvl</td></tr><tr><th>5</th><td>5</td><td>60</td><td>RL</td><td>84</td><td>14260</td><td>Pave</td><td>NA</td><td>IR1</td><td>Lvl</td></tr><tr><th>6</th><td>6</td><td>50</td><td>RL</td><td>85</td><td>14115</td><td>Pave</td><td>NA</td><td>IR1</td><td>Lvl</td></tr><tr><th>7</th><td>7</td><td>20</td><td>RL</td><td>75</td><td>10084</td><td>Pave</td><td>NA</td><td>Reg</td><td>Lvl</td></tr><tr><th>8</th><td>8</td><td>60</td><td>RL</td><td>NA</td><td>10382</td><td>Pave</td><td>NA</td><td>IR1</td><td>Lvl</td></tr><tr><th>9</th><td>9</td><td>50</td><td>RM</td><td>51</td><td>6120</td><td>Pave</td><td>NA</td><td>Reg</td><td>Lvl</td></tr><tr><th>10</th><td>10</td><td>190</td><td>RL</td><td>50</td><td>7420</td><td>Pave</td><td>NA</td><td>Reg</td><td>Lvl</td></tr><tr><th>11</th><td>11</td><td>20</td><td>RL</td><td>70</td><td>11200</td><td>Pave</td><td>NA</td><td>Reg</td><td>Lvl</td></tr><tr><th>12</th><td>12</td><td>60</td><td>RL</td><td>85</td><td>11924</td><td>Pave</td><td>NA</td><td>IR1</td><td>Lvl</td></tr><tr><th>13</th><td>13</td><td>20</td><td>RL</td><td>NA</td><td>12968</td><td>Pave</td><td>NA</td><td>IR2</td><td>Lvl</td></tr><tr><th>14</th><td>14</td><td>20</td><td>RL</td><td>91</td><td>10652</td><td>Pave</td><td>NA</td><td>IR1</td><td>Lvl</td></tr><tr><th>15</th><td>15</td><td>20</td><td>RL</td><td>NA</td><td>10920</td><td>Pave</td><td>NA</td><td>IR1</td><td>Lvl</td></tr><tr><th>16</th><td>16</td><td>45</td><td>RM</td><td>51</td><td>6120</td><td>Pave</td><td>NA</td><td>Reg</td><td>Lvl</td></tr><tr><th>17</th><td>17</td><td>20</td><td>RL</td><td>NA</td><td>11241</td><td>Pave</td><td>NA</td><td>IR1</td><td>Lvl</td></tr><tr><th>18</th><td>18</td><td>90</td><td>RL</td><td>72</td><td>10791</td><td>Pave</td><td>NA</td><td>Reg</td><td>Lvl</td></tr><tr><th>19</th><td>19</td><td>20</td><td>RL</td><td>66</td><td>13695</td><td>Pave</td><td>NA</td><td>Reg</td><td>Lvl</td></tr><tr><th>20</th><td>20</td><td>20</td><td>RL</td><td>70</td><td>7560</td><td>Pave</td><td>NA</td><td>Reg</td><td>Lvl</td></tr><tr><th>21</th><td>21</td><td>60</td><td>RL</td><td>101</td><td>14215</td><td>Pave</td><td>NA</td><td>IR1</td><td>Lvl</td></tr><tr><th>22</th><td>22</td><td>45</td><td>RM</td><td>57</td><td>7449</td><td>Pave</td><td>Grvl</td><td>Reg</td><td>Bnk</td></tr><tr><th>23</th><td>23</td><td>20</td><td>RL</td><td>75</td><td>9742</td><td>Pave</td><td>NA</td><td>Reg</td><td>Lvl</td></tr><tr><th>24</th><td>24</td><td>120</td><td>RM</td><td>44</td><td>4224</td><td>Pave</td><td>NA</td><td>Reg</td><td>Lvl</td></tr><tr><th>&vellip;</th><td>&vellip;</td><td>&vellip;</td><td>&vellip;</td><td>&vellip;</td><td>&vellip;</td><td>&vellip;</td><td>&vellip;</td><td>&vellip;</td><td>&vellip;</td></tr></tbody></table>"
      ]
     },
     "metadata": {},
     "execution_count": 82
    }
   ],
   "cell_type": "code",
   "source": [
    "# PoolAreaカラムを削除\n",
    "select!(data, Not(:PoolArea))"
   ],
   "metadata": {},
   "execution_count": 82
  },
  {
   "outputs": [
    {
     "output_type": "execute_result",
     "data": {
      "text/plain": "80"
     },
     "metadata": {},
     "execution_count": 83
    }
   ],
   "cell_type": "code",
   "source": [
    "length(names(data))"
   ],
   "metadata": {},
   "execution_count": 83
  },
  {
   "cell_type": "markdown",
   "source": [
    "## 2.4 グラフのプロット\n",
    "別ファイル"
   ],
   "metadata": {}
  },
  {
   "cell_type": "markdown",
   "source": [
    "### 2.5 if文とfor文"
   ],
   "metadata": {}
  },
  {
   "outputs": [
    {
     "name": "stdout",
     "output_type": "stream",
     "text": [
      "5以上の値 [10, 8, 6]\n"
     ]
    }
   ],
   "cell_type": "code",
   "source": [
    "values = [10, 3, 1, 5, 8, 6]\n",
    "\n",
    "# 通常のfor文\n",
    "# 空のリスト\n",
    "passed_values = Int64[]\n",
    "for v in values\n",
    "    if v > 5\n",
    "        push!(passed_values, v)\n",
    "    end\n",
    "end\n",
    "\n",
    "# 結果を標準出力\n",
    "println(\"5以上の値 $(passed_values)\")"
   ],
   "metadata": {},
   "execution_count": 84
  },
  {
   "outputs": [
    {
     "name": "stdout",
     "output_type": "stream",
     "text": [
      "5以上の値 [10, 8, 6]\n"
     ]
    }
   ],
   "cell_type": "code",
   "source": [
    "# リスト内表記のforとif\n",
    "passed_values = [v for v in values if v > 5]\n",
    "\n",
    "# 結果を標準出力\n",
    "println(\"5以上の値 $(passed_values)\")"
   ],
   "metadata": {},
   "execution_count": 85
  },
  {
   "outputs": [
    {
     "name": "stdout",
     "output_type": "stream",
     "text": [
      "5以上の値 [10, 8, 6]\n"
     ]
    }
   ],
   "cell_type": "code",
   "source": [
    "# filterを使った表記\n",
    "passed_values = filter(v -> v > 5, values)\n",
    "\n",
    "# 結果を標準出力\n",
    "println(\"5以上の値 $(passed_values)\")"
   ],
   "metadata": {},
   "execution_count": 86
  },
  {
   "cell_type": "markdown",
   "source": [
    "### 2.5.3 例外処理"
   ],
   "metadata": {}
  },
  {
   "outputs": [
    {
     "name": "stdout",
     "output_type": "stream",
     "text": [
      "-1.0\n",
      "Inf\n",
      "1.0\n"
     ]
    }
   ],
   "cell_type": "code",
   "source": [
    "# Juliaでは1/0はInfになる\n",
    "for i in [-1, 0, 1]\n",
    "    println(\"$(1/i)\")\n",
    "end"
   ],
   "metadata": {},
   "execution_count": 87
  },
  {
   "outputs": [],
   "cell_type": "code",
   "source": [
    "# 例外を発生させてみる\n",
    "# for i in [-1, 0, 1]\n",
    "#     println(\"$(i//i)\")\n",
    "##∂ end"
   ],
   "metadata": {},
   "execution_count": 88
  },
  {
   "outputs": [
    {
     "name": "stdout",
     "output_type": "stream",
     "text": [
      "1//1\n",
      "1//1\n"
     ]
    }
   ],
   "cell_type": "code",
   "source": [
    "for i in [-1, 0, 1]\n",
    "    try\n",
    "        println(\"$(i//i)\")\n",
    "    catch\n",
    "        continue\n",
    "    end\n",
    "end"
   ],
   "metadata": {},
   "execution_count": 89
  },
  {
   "cell_type": "markdown",
   "source": [
    "---\n",
    "\n",
    "*This notebook was generated using [Literate.jl](https://github.com/fredrikekre/Literate.jl).*"
   ],
   "metadata": {}
  }
 ],
 "nbformat_minor": 3,
 "metadata": {
  "language_info": {
   "file_extension": ".jl",
   "mimetype": "application/julia",
   "name": "julia",
   "version": "1.5.2"
  },
  "kernelspec": {
   "name": "julia-1.5",
   "display_name": "Julia 1.5.2",
   "language": "julia"
  }
 },
 "nbformat": 4
}
